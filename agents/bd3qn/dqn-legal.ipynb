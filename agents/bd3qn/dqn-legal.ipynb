{
 "cells": [
  {
   "cell_type": "code",
   "execution_count": 2,
   "metadata": {},
   "outputs": [],
   "source": [
    "import torch\n",
    "import torch.nn as nn\n",
    "import torch.nn.functional as F\n",
    "import torch.optim as optim\n",
    "import numpy as np\n",
    "from noisy_net import NoisyLinear, NoisyFactorizedLinear\n",
    "from player import PlayerHelper"
   ]
  },
  {
   "cell_type": "code",
   "execution_count": 3,
   "metadata": {},
   "outputs": [],
   "source": [
    "class BranchingQNetwork(nn.Module):\n",
    "    def __init__(self, observation_space, action_space, action_bins, hidden_dim, exploration_method, architecture = \"DQN\"):\n",
    "        super().__init__()\n",
    "        self.exploration_method = exploration_method\n",
    "        # if self.exploration_method == \"Noisy\":\n",
    "        #     self.model = nn.Sequential(\n",
    "        #         NoisyLinear(observation_space, hidden_dim*4),\n",
    "        #         nn.ReLU(),\n",
    "        #         NoisyLinear(hidden_dim*4, hidden_dim*2),\n",
    "        #         nn.ReLU(),\n",
    "        #         NoisyLinear(hidden_dim*2, hidden_dim),\n",
    "        #         nn.ReLU()\n",
    "        #     )\n",
    "        #     self.value_head = NoisyLinear(hidden_dim, 1)\n",
    "        #     self.adv_heads = nn.ModuleList(\n",
    "        #         [NoisyLinear(hidden_dim, action_bins) for i in range(action_space)])\n",
    "        # else:\n",
    "        self.architecture = architecture\n",
    "        self.model = nn.Sequential(\n",
    "            nn.Linear(observation_space, hidden_dim*4),\n",
    "            nn.ReLU(),\n",
    "            nn.Linear(hidden_dim*4, hidden_dim*2),\n",
    "            nn.ReLU(),\n",
    "            nn.Linear(hidden_dim*2, hidden_dim),\n",
    "            nn.ReLU()\n",
    "        )\n",
    "        if architecture == \"Dueling\":\n",
    "            self.value_head = nn.Linear(hidden_dim, 1)\n",
    "            self.adv_heads = nn.Linear(hidden_dim, action_bins)\n",
    "        else:\n",
    "            self.out = nn.Linear(hidden_dim, action_bins)\n",
    "            \n",
    "    def forward(self, x):\n",
    "        first_layer = self.model(x)\n",
    "        out = self.out(first_layer)\n",
    "        q_val = out\n",
    "        if self.architecture == \"Dueling\":\n",
    "            value = self.value_head(out)\n",
    "            advs = self.advs_heads(out)\n",
    "            q_val = value + advs - advs.mean()\n",
    "        # if value.shape[0] == 1:\n",
    "        #     advs = torch.stack([l(out) for l in self.adv_heads], dim=0)\n",
    "        #     q_val = value + advs - advs.mean(1, keepdim=True)\n",
    "        # else:\n",
    "        #     advs = torch.stack([l(out) for l in self.adv_heads], dim=1)\n",
    "        #     q_val = value.unsqueeze(1) + advs - advs.mean(2, keepdim=True)\n",
    "        return q_val\n",
    "\n"
   ]
  },
  {
   "cell_type": "code",
   "execution_count": 4,
   "metadata": {},
   "outputs": [],
   "source": [
    "observation = [  64.,    0.,    0.,  500.,    0.,    0.,    1.,  100.,    8.,\n",
    "      0.,    0.,  100.,    0.,    1.,    0.,  100.,    0.,    0.,\n",
    "      0.,  -88.,    0.,    0.,    0., -100.,   16.,    0.,    0.,\n",
    "    100.,   12.,    0.,    1., -100.,   16.,    0.,    0.,  -50.,\n",
    "      7.,    1.,    0.,  -13.,    8.,    0.,    0., -500.,   32.,\n",
    "      3.,    1.,   94.,    1.,    8.,   10.,    2.,   56.,    1.,\n",
    "      7.,    8.,    0.,   93.,    0.,    8.,    6.,    1.,   58.,\n",
    "      0.,    8.,    8.,    2.,    0.,    0.,    0.,    4.,    0.,\n",
    "    100.,    0.,    8.,    7.,    1.,   90.,    0.,    8.,    2.,\n",
    "      2.,  100.,    0.,    8.,    7.,    0.,  100.,    0.,    8.,\n",
    "      2.,    1.,   15.,    0.,    7.,    9.,    2.,   70.,    0.,\n",
    "      8.,    2.,    0.,   91.,    1.,   12.]"
   ]
  },
  {
   "cell_type": "code",
   "execution_count": 5,
   "metadata": {},
   "outputs": [],
   "source": [
    "player_helper = PlayerHelper(7,1, \"../config/DemoMap.json\")"
   ]
  },
  {
   "cell_type": "code",
   "execution_count": 6,
   "metadata": {},
   "outputs": [
    {
     "data": {
      "text/plain": [
       "array([False, False, False, False, False, False, False, False, False,\n",
       "       False, False, False, False, False, False, False, False, False,\n",
       "       False, False, False, False, False, False, False, False,  True,\n",
       "       False, False,  True,  True, False,  True, False, False,  True,\n",
       "       False, False,  True, False, False,  True, False, False, False,\n",
       "       False, False, False, False, False, False, False, False, False,\n",
       "       False,  True, False,  True,  True, False, False,  True, False,\n",
       "       False, False, False, False, False,  True,  True, False, False,\n",
       "        True, False,  True,  True, False,  True,  True,  True, False,\n",
       "        True, False, False, False, False, False, False, False, False,\n",
       "        True,  True, False, False,  True, False,  True,  True, False,\n",
       "        True,  True,  True, False,  True, False, False, False, False,\n",
       "       False, False, False, False, False, False,  True,  True,  True,\n",
       "        True,  True,  True, False, False, False, False, False, False,\n",
       "       False, False, False, False, False, False])"
      ]
     },
     "execution_count": 6,
     "metadata": {},
     "output_type": "execute_result"
    }
   ],
   "source": [
    "player_helper.legal_moves(observation)"
   ]
  },
  {
   "cell_type": "code",
   "execution_count": 7,
   "metadata": {},
   "outputs": [
    {
     "ename": "NameError",
     "evalue": "name 'legal_moves' is not defined",
     "output_type": "error",
     "traceback": [
      "\u001b[1;31m---------------------------------------------------------------------------\u001b[0m",
      "\u001b[1;31mNameError\u001b[0m                                 Traceback (most recent call last)",
      "\u001b[1;32m<ipython-input-7-bed3d08d4d32>\u001b[0m in \u001b[0;36m<module>\u001b[1;34m\u001b[0m\n\u001b[1;32m----> 1\u001b[1;33m \u001b[0mlegal_moves\u001b[0m\u001b[1;33m\u001b[0m\u001b[1;33m\u001b[0m\u001b[0m\n\u001b[0m",
      "\u001b[1;31mNameError\u001b[0m: name 'legal_moves' is not defined"
     ]
    }
   ],
   "source": [
    "legal_moves"
   ]
  },
  {
   "cell_type": "code",
   "execution_count": 8,
   "metadata": {},
   "outputs": [
    {
     "ename": "NameError",
     "evalue": "name 'build_action_table' is not defined",
     "output_type": "error",
     "traceback": [
      "\u001b[1;31m---------------------------------------------------------------------------\u001b[0m",
      "\u001b[1;31mNameError\u001b[0m                                 Traceback (most recent call last)",
      "\u001b[1;32m<ipython-input-8-5deab9ce65ed>\u001b[0m in \u001b[0;36m<module>\u001b[1;34m\u001b[0m\n\u001b[1;32m----> 1\u001b[1;33m \u001b[0mactions\u001b[0m \u001b[1;33m=\u001b[0m \u001b[0mbuild_action_table\u001b[0m\u001b[1;33m(\u001b[0m\u001b[1;33m)\u001b[0m\u001b[1;33m.\u001b[0m\u001b[0mtolist\u001b[0m\u001b[1;33m(\u001b[0m\u001b[1;33m)\u001b[0m\u001b[1;33m\u001b[0m\u001b[1;33m\u001b[0m\u001b[0m\n\u001b[0m",
      "\u001b[1;31mNameError\u001b[0m: name 'build_action_table' is not defined"
     ]
    }
   ],
   "source": [
    "actions = build_action_table().tolist()"
   ]
  },
  {
   "cell_type": "code",
   "execution_count": 9,
   "metadata": {},
   "outputs": [
    {
     "ename": "NameError",
     "evalue": "name 'actions' is not defined",
     "output_type": "error",
     "traceback": [
      "\u001b[1;31m---------------------------------------------------------------------------\u001b[0m",
      "\u001b[1;31mNameError\u001b[0m                                 Traceback (most recent call last)",
      "\u001b[1;32m<ipython-input-9-843cc7b8c4f6>\u001b[0m in \u001b[0;36m<module>\u001b[1;34m\u001b[0m\n\u001b[1;32m----> 1\u001b[1;33m \u001b[0mactions\u001b[0m\u001b[1;33m.\u001b[0m\u001b[0mindex\u001b[0m\u001b[1;33m(\u001b[0m\u001b[1;33m[\u001b[0m\u001b[1;36m3\u001b[0m\u001b[1;33m,\u001b[0m\u001b[1;36m6\u001b[0m\u001b[1;33m]\u001b[0m\u001b[1;33m)\u001b[0m\u001b[1;33m\u001b[0m\u001b[1;33m\u001b[0m\u001b[0m\n\u001b[0m",
      "\u001b[1;31mNameError\u001b[0m: name 'actions' is not defined"
     ]
    }
   ],
   "source": [
    "actions.index([3,6])"
   ]
  },
  {
   "cell_type": "code",
   "execution_count": 10,
   "metadata": {},
   "outputs": [],
   "source": [
    "model= BranchingQNetwork(105, 7, 132, 128, \"eps\")"
   ]
  },
  {
   "cell_type": "code",
   "execution_count": 11,
   "metadata": {},
   "outputs": [
    {
     "data": {
      "text/plain": [
       "BranchingQNetwork(\n",
       "  (model): Sequential(\n",
       "    (0): Linear(in_features=105, out_features=512, bias=True)\n",
       "    (1): ReLU()\n",
       "    (2): Linear(in_features=512, out_features=256, bias=True)\n",
       "    (3): ReLU()\n",
       "    (4): Linear(in_features=256, out_features=128, bias=True)\n",
       "    (5): ReLU()\n",
       "  )\n",
       "  (out): Linear(in_features=128, out_features=132, bias=True)\n",
       ")"
      ]
     },
     "execution_count": 11,
     "metadata": {},
     "output_type": "execute_result"
    }
   ],
   "source": [
    "model"
   ]
  },
  {
   "cell_type": "code",
   "execution_count": 12,
   "metadata": {},
   "outputs": [],
   "source": [
    "obs = torch.tensor(observation).float()"
   ]
  },
  {
   "cell_type": "code",
   "execution_count": 13,
   "metadata": {},
   "outputs": [],
   "source": [
    "preds = model(obs)"
   ]
  },
  {
   "cell_type": "code",
   "execution_count": 14,
   "metadata": {},
   "outputs": [
    {
     "ename": "NameError",
     "evalue": "name 'legal_moves' is not defined",
     "output_type": "error",
     "traceback": [
      "\u001b[1;31m---------------------------------------------------------------------------\u001b[0m",
      "\u001b[1;31mNameError\u001b[0m                                 Traceback (most recent call last)",
      "\u001b[1;32m<ipython-input-14-8fb74ffb6218>\u001b[0m in \u001b[0;36m<module>\u001b[1;34m\u001b[0m\n\u001b[1;32m----> 1\u001b[1;33m \u001b[0mlegal\u001b[0m \u001b[1;33m=\u001b[0m \u001b[1;33m[\u001b[0m\u001b[0mi\u001b[0m \u001b[1;32mfor\u001b[0m \u001b[0mi\u001b[0m\u001b[1;33m,\u001b[0m \u001b[0mx\u001b[0m \u001b[1;32min\u001b[0m \u001b[0menumerate\u001b[0m\u001b[1;33m(\u001b[0m\u001b[0mlegal_moves\u001b[0m\u001b[1;33m)\u001b[0m \u001b[1;32mif\u001b[0m \u001b[0mx\u001b[0m\u001b[1;33m]\u001b[0m\u001b[1;33m\u001b[0m\u001b[1;33m\u001b[0m\u001b[0m\n\u001b[0m",
      "\u001b[1;31mNameError\u001b[0m: name 'legal_moves' is not defined"
     ]
    }
   ],
   "source": [
    "legal = [i for i, x in enumerate(legal_moves) if x]"
   ]
  },
  {
   "cell_type": "code",
   "execution_count": 15,
   "metadata": {},
   "outputs": [
    {
     "ename": "NameError",
     "evalue": "name 'legal' is not defined",
     "output_type": "error",
     "traceback": [
      "\u001b[1;31m---------------------------------------------------------------------------\u001b[0m",
      "\u001b[1;31mNameError\u001b[0m                                 Traceback (most recent call last)",
      "\u001b[1;32m<ipython-input-15-9ff23d28c5fc>\u001b[0m in \u001b[0;36m<module>\u001b[1;34m\u001b[0m\n\u001b[1;32m----> 1\u001b[1;33m \u001b[0mlegal\u001b[0m\u001b[1;33m\u001b[0m\u001b[1;33m\u001b[0m\u001b[0m\n\u001b[0m",
      "\u001b[1;31mNameError\u001b[0m: name 'legal' is not defined"
     ]
    }
   ],
   "source": [
    "legal"
   ]
  },
  {
   "cell_type": "code",
   "execution_count": 16,
   "metadata": {},
   "outputs": [
    {
     "data": {
      "text/plain": [
       "tensor([ 6.6712, -2.1252,  1.9800, -8.5756, -1.6728,  3.4628,  8.2426,  2.2607,\n",
       "        -3.0697,  5.8913,  2.9173, -0.6005, -0.8185,  2.5592,  2.0071, -0.4846,\n",
       "        -1.6680,  0.7731, -2.6719, -2.6306,  2.3806,  0.2284,  0.1485, -2.6063,\n",
       "        -0.6727, -1.0807, -5.9536, -3.1568,  0.1139, -2.5109, -0.6564, -1.1901,\n",
       "         1.0462, -1.4271, -0.2501, -3.8880, -0.8491,  2.7232,  3.3158,  0.1621,\n",
       "        -3.1153,  0.5378, -0.3714, -3.1410,  6.6479, -6.0671,  1.7127, -1.6592,\n",
       "         9.7451, -0.7874, -0.4999, -1.2743, -3.1192,  0.3740,  0.7207,  2.2177,\n",
       "         2.8771, -6.4476, -0.7109, -5.2483,  0.7600,  1.9684, -2.8296, -1.3688,\n",
       "        -8.8673,  1.6873, -5.6360,  1.6794,  6.7481,  4.5762,  3.9550,  0.7512,\n",
       "        -0.2830,  0.3564,  2.1869,  0.1820,  5.2436,  1.5922, -5.7179,  0.4404,\n",
       "        -2.8175, -5.3680, -1.9342, -3.1608, -1.7578, -1.9718,  0.1256,  7.7262,\n",
       "         0.9141, -3.7243,  3.4835,  1.7513, -1.8877,  0.5901, -1.7303,  2.0544,\n",
       "         2.7319, -5.2023, -2.6598, -5.3180,  2.7448, -3.7318,  0.2762,  1.5644,\n",
       "         5.1989, -1.1566, -0.8824, -4.6872,  4.8753, -3.0010,  3.9978,  3.8783,\n",
       "        -1.4496, -0.1098, -0.8281,  5.9493, -5.3427, -0.2939, -3.7390, -0.7096,\n",
       "        -3.1401, -4.4716,  1.4285, -0.3884, -3.0775,  1.5672,  0.4448,  6.0883,\n",
       "        -2.1210,  2.2619, -3.2213, -1.9363], grad_fn=<AddBackward0>)"
      ]
     },
     "execution_count": 16,
     "metadata": {},
     "output_type": "execute_result"
    }
   ],
   "source": [
    "preds"
   ]
  },
  {
   "cell_type": "code",
   "execution_count": 17,
   "metadata": {},
   "outputs": [
    {
     "ename": "NameError",
     "evalue": "name 'legal' is not defined",
     "output_type": "error",
     "traceback": [
      "\u001b[1;31m---------------------------------------------------------------------------\u001b[0m",
      "\u001b[1;31mNameError\u001b[0m                                 Traceback (most recent call last)",
      "\u001b[1;32m<ipython-input-17-a74fc2f211a1>\u001b[0m in \u001b[0;36m<module>\u001b[1;34m\u001b[0m\n\u001b[1;32m----> 1\u001b[1;33m \u001b[0mlegal_pred\u001b[0m \u001b[1;33m=\u001b[0m \u001b[0mpreds\u001b[0m\u001b[1;33m.\u001b[0m\u001b[0mgather\u001b[0m\u001b[1;33m(\u001b[0m\u001b[1;36m0\u001b[0m\u001b[1;33m,\u001b[0m \u001b[0mtorch\u001b[0m\u001b[1;33m.\u001b[0m\u001b[0mLongTensor\u001b[0m\u001b[1;33m(\u001b[0m\u001b[0mlegal\u001b[0m\u001b[1;33m)\u001b[0m\u001b[1;33m)\u001b[0m\u001b[1;33m\u001b[0m\u001b[1;33m\u001b[0m\u001b[0m\n\u001b[0m",
      "\u001b[1;31mNameError\u001b[0m: name 'legal' is not defined"
     ]
    }
   ],
   "source": [
    "legal_pred = preds.gather(0, torch.LongTensor(legal))"
   ]
  },
  {
   "cell_type": "code",
   "execution_count": 18,
   "metadata": {},
   "outputs": [
    {
     "data": {
      "text/plain": [
       "tensor(-3.7390, grad_fn=<SelectBackward>)"
      ]
     },
     "execution_count": 18,
     "metadata": {},
     "output_type": "execute_result"
    }
   ],
   "source": [
    "preds[118]"
   ]
  },
  {
   "cell_type": "code",
   "execution_count": 19,
   "metadata": {},
   "outputs": [
    {
     "ename": "NameError",
     "evalue": "name 'legal_pred' is not defined",
     "output_type": "error",
     "traceback": [
      "\u001b[1;31m---------------------------------------------------------------------------\u001b[0m",
      "\u001b[1;31mNameError\u001b[0m                                 Traceback (most recent call last)",
      "\u001b[1;32m<ipython-input-19-841f1fb8faeb>\u001b[0m in \u001b[0;36m<module>\u001b[1;34m\u001b[0m\n\u001b[1;32m----> 1\u001b[1;33m \u001b[0mlegal_pred\u001b[0m\u001b[1;33m\u001b[0m\u001b[1;33m\u001b[0m\u001b[0m\n\u001b[0m",
      "\u001b[1;31mNameError\u001b[0m: name 'legal_pred' is not defined"
     ]
    }
   ],
   "source": [
    "legal_pred"
   ]
  },
  {
   "cell_type": "code",
   "execution_count": 20,
   "metadata": {},
   "outputs": [
    {
     "ename": "NameError",
     "evalue": "name 'legal_pred' is not defined",
     "output_type": "error",
     "traceback": [
      "\u001b[1;31m---------------------------------------------------------------------------\u001b[0m",
      "\u001b[1;31mNameError\u001b[0m                                 Traceback (most recent call last)",
      "\u001b[1;32m<ipython-input-20-e31883e76ccb>\u001b[0m in \u001b[0;36m<module>\u001b[1;34m\u001b[0m\n\u001b[1;32m----> 1\u001b[1;33m \u001b[0mact_q\u001b[0m \u001b[1;33m=\u001b[0m \u001b[0mlegal_pred\u001b[0m\u001b[1;33m.\u001b[0m\u001b[0msort\u001b[0m\u001b[1;33m(\u001b[0m\u001b[0mdescending\u001b[0m\u001b[1;33m=\u001b[0m\u001b[1;32mTrue\u001b[0m\u001b[1;33m)\u001b[0m\u001b[1;33m\u001b[0m\u001b[1;33m\u001b[0m\u001b[0m\n\u001b[0m",
      "\u001b[1;31mNameError\u001b[0m: name 'legal_pred' is not defined"
     ]
    }
   ],
   "source": [
    "act_q = legal_pred.sort(descending=True)"
   ]
  },
  {
   "cell_type": "code",
   "execution_count": 21,
   "metadata": {},
   "outputs": [
    {
     "ename": "NameError",
     "evalue": "name 'act_q' is not defined",
     "output_type": "error",
     "traceback": [
      "\u001b[1;31m---------------------------------------------------------------------------\u001b[0m",
      "\u001b[1;31mNameError\u001b[0m                                 Traceback (most recent call last)",
      "\u001b[1;32m<ipython-input-21-966a3d114eac>\u001b[0m in \u001b[0;36m<module>\u001b[1;34m\u001b[0m\n\u001b[1;32m----> 1\u001b[1;33m \u001b[0mact_q\u001b[0m\u001b[1;33m\u001b[0m\u001b[1;33m\u001b[0m\u001b[0m\n\u001b[0m",
      "\u001b[1;31mNameError\u001b[0m: name 'act_q' is not defined"
     ]
    }
   ],
   "source": [
    "act_q"
   ]
  },
  {
   "cell_type": "code",
   "execution_count": 22,
   "metadata": {},
   "outputs": [
    {
     "ename": "NameError",
     "evalue": "name 'act_q' is not defined",
     "output_type": "error",
     "traceback": [
      "\u001b[1;31m---------------------------------------------------------------------------\u001b[0m",
      "\u001b[1;31mNameError\u001b[0m                                 Traceback (most recent call last)",
      "\u001b[1;32m<ipython-input-22-c55d94f2a654>\u001b[0m in \u001b[0;36m<module>\u001b[1;34m\u001b[0m\n\u001b[1;32m----> 1\u001b[1;33m \u001b[0mchosen_q\u001b[0m \u001b[1;33m=\u001b[0m \u001b[0mact_q\u001b[0m\u001b[1;33m.\u001b[0m\u001b[0mvalues\u001b[0m\u001b[1;33m[\u001b[0m\u001b[1;33m:\u001b[0m\u001b[1;36m7\u001b[0m\u001b[1;33m]\u001b[0m\u001b[1;33m\u001b[0m\u001b[1;33m\u001b[0m\u001b[0m\n\u001b[0m\u001b[0;32m      2\u001b[0m \u001b[0mchosen_q_idx\u001b[0m \u001b[1;33m=\u001b[0m \u001b[0mact_q\u001b[0m\u001b[1;33m.\u001b[0m\u001b[0mindices\u001b[0m\u001b[1;33m[\u001b[0m\u001b[1;33m:\u001b[0m\u001b[1;36m7\u001b[0m\u001b[1;33m]\u001b[0m\u001b[1;33m\u001b[0m\u001b[1;33m\u001b[0m\u001b[0m\n",
      "\u001b[1;31mNameError\u001b[0m: name 'act_q' is not defined"
     ]
    }
   ],
   "source": [
    "chosen_q = act_q.values[:7]\n",
    "chosen_q_idx = act_q.indices[:7]"
   ]
  },
  {
   "cell_type": "code",
   "execution_count": 23,
   "metadata": {},
   "outputs": [
    {
     "ename": "NameError",
     "evalue": "name 'chosen_q' is not defined",
     "output_type": "error",
     "traceback": [
      "\u001b[1;31m---------------------------------------------------------------------------\u001b[0m",
      "\u001b[1;31mNameError\u001b[0m                                 Traceback (most recent call last)",
      "\u001b[1;32m<ipython-input-23-b75bf7d5d1fa>\u001b[0m in \u001b[0;36m<module>\u001b[1;34m\u001b[0m\n\u001b[1;32m----> 1\u001b[1;33m \u001b[0mchosen_q\u001b[0m\u001b[1;33m\u001b[0m\u001b[1;33m\u001b[0m\u001b[0m\n\u001b[0m",
      "\u001b[1;31mNameError\u001b[0m: name 'chosen_q' is not defined"
     ]
    }
   ],
   "source": [
    "chosen_q"
   ]
  },
  {
   "cell_type": "code",
   "execution_count": 24,
   "metadata": {},
   "outputs": [
    {
     "ename": "NameError",
     "evalue": "name 'chosen_q_idx' is not defined",
     "output_type": "error",
     "traceback": [
      "\u001b[1;31m---------------------------------------------------------------------------\u001b[0m",
      "\u001b[1;31mNameError\u001b[0m                                 Traceback (most recent call last)",
      "\u001b[1;32m<ipython-input-24-084bcae0eba7>\u001b[0m in \u001b[0;36m<module>\u001b[1;34m\u001b[0m\n\u001b[1;32m----> 1\u001b[1;33m \u001b[0mchosen_q_idx\u001b[0m\u001b[1;33m\u001b[0m\u001b[1;33m\u001b[0m\u001b[0m\n\u001b[0m",
      "\u001b[1;31mNameError\u001b[0m: name 'chosen_q_idx' is not defined"
     ]
    }
   ],
   "source": [
    "chosen_q_idx"
   ]
  },
  {
   "cell_type": "code",
   "execution_count": 25,
   "metadata": {},
   "outputs": [
    {
     "ename": "NameError",
     "evalue": "name 'legal' is not defined",
     "output_type": "error",
     "traceback": [
      "\u001b[1;31m---------------------------------------------------------------------------\u001b[0m",
      "\u001b[1;31mNameError\u001b[0m                                 Traceback (most recent call last)",
      "\u001b[1;32m<ipython-input-25-f282b7b5727f>\u001b[0m in \u001b[0;36m<module>\u001b[1;34m\u001b[0m\n\u001b[1;32m----> 1\u001b[1;33m \u001b[0mlegal\u001b[0m \u001b[1;33m=\u001b[0m \u001b[0mtorch\u001b[0m\u001b[1;33m.\u001b[0m\u001b[0mLongTensor\u001b[0m\u001b[1;33m(\u001b[0m\u001b[0mlegal\u001b[0m\u001b[1;33m)\u001b[0m\u001b[1;33m\u001b[0m\u001b[1;33m\u001b[0m\u001b[0m\n\u001b[0m",
      "\u001b[1;31mNameError\u001b[0m: name 'legal' is not defined"
     ]
    }
   ],
   "source": [
    "legal = torch.LongTensor(legal)"
   ]
  },
  {
   "cell_type": "code",
   "execution_count": 26,
   "metadata": {},
   "outputs": [
    {
     "ename": "NameError",
     "evalue": "name 'legal' is not defined",
     "output_type": "error",
     "traceback": [
      "\u001b[1;31m---------------------------------------------------------------------------\u001b[0m",
      "\u001b[1;31mNameError\u001b[0m                                 Traceback (most recent call last)",
      "\u001b[1;32m<ipython-input-26-9ff23d28c5fc>\u001b[0m in \u001b[0;36m<module>\u001b[1;34m\u001b[0m\n\u001b[1;32m----> 1\u001b[1;33m \u001b[0mlegal\u001b[0m\u001b[1;33m\u001b[0m\u001b[1;33m\u001b[0m\u001b[0m\n\u001b[0m",
      "\u001b[1;31mNameError\u001b[0m: name 'legal' is not defined"
     ]
    }
   ],
   "source": [
    "legal"
   ]
  },
  {
   "cell_type": "code",
   "execution_count": 27,
   "metadata": {},
   "outputs": [
    {
     "ename": "NameError",
     "evalue": "name 'legal' is not defined",
     "output_type": "error",
     "traceback": [
      "\u001b[1;31m---------------------------------------------------------------------------\u001b[0m",
      "\u001b[1;31mNameError\u001b[0m                                 Traceback (most recent call last)",
      "\u001b[1;32m<ipython-input-27-43436895c2b7>\u001b[0m in \u001b[0;36m<module>\u001b[1;34m\u001b[0m\n\u001b[1;32m----> 1\u001b[1;33m \u001b[0mlegal\u001b[0m\u001b[1;33m.\u001b[0m\u001b[0mgather\u001b[0m\u001b[1;33m(\u001b[0m\u001b[1;36m0\u001b[0m\u001b[1;33m,\u001b[0m \u001b[0mchosen_q_idx\u001b[0m\u001b[1;33m)\u001b[0m\u001b[1;33m\u001b[0m\u001b[1;33m\u001b[0m\u001b[0m\n\u001b[0m",
      "\u001b[1;31mNameError\u001b[0m: name 'legal' is not defined"
     ]
    }
   ],
   "source": [
    "legal.gather(0, chosen_q_idx)"
   ]
  },
  {
   "cell_type": "code",
   "execution_count": 28,
   "metadata": {},
   "outputs": [
    {
     "data": {
      "text/plain": [
       "<torch.autograd.anomaly_mode.set_detect_anomaly at 0x1b126cf63a0>"
      ]
     },
     "execution_count": 28,
     "metadata": {},
     "output_type": "execute_result"
    }
   ],
   "source": [
    "torch.cuda.init()\n",
    "device = torch.device(\n",
    "    \"cuda:0\" if torch.cuda.is_available() else \"cpu\")\n",
    "torch.autograd.set_detect_anomaly(True)"
   ]
  },
  {
   "cell_type": "code",
   "execution_count": 29,
   "metadata": {},
   "outputs": [
    {
     "ename": "ValueError",
     "evalue": "setting an array element with a sequence.",
     "output_type": "error",
     "traceback": [
      "\u001b[1;31m---------------------------------------------------------------------------\u001b[0m",
      "\u001b[1;31mTypeError\u001b[0m                                 Traceback (most recent call last)",
      "\u001b[1;31mTypeError\u001b[0m: float() argument must be a string or a number, not 'list'",
      "\nThe above exception was the direct cause of the following exception:\n",
      "\u001b[1;31mValueError\u001b[0m                                Traceback (most recent call last)",
      "\u001b[1;32m<ipython-input-29-059f3e913eff>\u001b[0m in \u001b[0;36m<module>\u001b[1;34m\u001b[0m\n\u001b[1;32m----> 1\u001b[1;33m \u001b[0mplayer_helper\u001b[0m\u001b[1;33m.\u001b[0m\u001b[0mget_action_choices\u001b[0m\u001b[1;33m(\u001b[0m\u001b[1;36m132\u001b[0m\u001b[1;33m)\u001b[0m\u001b[1;33m\u001b[0m\u001b[1;33m\u001b[0m\u001b[0m\n\u001b[0m",
      "\u001b[1;32mD:\\everglades-ai-wargame\\agents\\bd3qn\\player.py\u001b[0m in \u001b[0;36mget_action_choices\u001b[1;34m(self, shape)\u001b[0m\n\u001b[0;32m     50\u001b[0m                 \u001b[0mgroup_id\u001b[0m \u001b[1;33m+=\u001b[0m \u001b[1;36m1\u001b[0m\u001b[1;33m\u001b[0m\u001b[1;33m\u001b[0m\u001b[0m\n\u001b[0;32m     51\u001b[0m                 \u001b[0mnode_id\u001b[0m \u001b[1;33m=\u001b[0m \u001b[1;36m1\u001b[0m\u001b[1;33m\u001b[0m\u001b[1;33m\u001b[0m\u001b[0m\n\u001b[1;32m---> 52\u001b[1;33m             \u001b[0maction_choices\u001b[0m\u001b[1;33m[\u001b[0m\u001b[0mi\u001b[0m\u001b[1;33m]\u001b[0m \u001b[1;33m=\u001b[0m \u001b[1;33m[\u001b[0m\u001b[0mgroup_id\u001b[0m\u001b[1;33m,\u001b[0m \u001b[0mnode_id\u001b[0m\u001b[1;33m]\u001b[0m\u001b[1;33m\u001b[0m\u001b[1;33m\u001b[0m\u001b[0m\n\u001b[0m\u001b[0;32m     53\u001b[0m             \u001b[0mnode_id\u001b[0m \u001b[1;33m+=\u001b[0m \u001b[1;36m1\u001b[0m\u001b[1;33m\u001b[0m\u001b[1;33m\u001b[0m\u001b[0m\n\u001b[0;32m     54\u001b[0m         \u001b[1;32mreturn\u001b[0m \u001b[0maction_choices\u001b[0m\u001b[1;33m\u001b[0m\u001b[1;33m\u001b[0m\u001b[0m\n",
      "\u001b[1;31mValueError\u001b[0m: setting an array element with a sequence."
     ]
    }
   ],
   "source": [
    "player_helper.get_action_choices(132)"
   ]
  },
  {
   "cell_type": "code",
   "execution_count": 30,
   "metadata": {},
   "outputs": [
    {
     "data": {
      "text/plain": [
       "[(array([1, 1, 3], dtype=int64), array([0, 1, 0], dtype=int64)),\n",
       " (array([1, 3, 3], dtype=int64), array([0, 0, 1], dtype=int64))]"
      ]
     },
     "execution_count": 30,
     "metadata": {},
     "output_type": "execute_result"
    }
   ],
   "source": [
    "l = np.array([[2,5],[3,7],[1,5],[3,12]])\n",
    "k = np.array([[3,7],[3,12]])\n",
    "a = []\n",
    "\n",
    "for i in k:\n",
    "    a.append(np.where(l == i))\n",
    "a"
   ]
  },
  {
   "cell_type": "code",
   "execution_count": 31,
   "metadata": {},
   "outputs": [],
   "source": [
    "from utils import build_action_table"
   ]
  },
  {
   "cell_type": "code",
   "execution_count": 32,
   "metadata": {},
   "outputs": [],
   "source": [
    "actions = build_action_table()"
   ]
  },
  {
   "cell_type": "code",
   "execution_count": 33,
   "metadata": {},
   "outputs": [
    {
     "data": {
      "text/plain": [
       "array([[ 0.,  1.],\n",
       "       [ 0.,  2.],\n",
       "       [ 0.,  3.],\n",
       "       [ 0.,  4.],\n",
       "       [ 0.,  5.],\n",
       "       [ 0.,  6.],\n",
       "       [ 0.,  7.],\n",
       "       [ 0.,  8.],\n",
       "       [ 0.,  9.],\n",
       "       [ 0., 10.],\n",
       "       [ 0., 11.],\n",
       "       [ 1.,  1.],\n",
       "       [ 1.,  2.],\n",
       "       [ 1.,  3.],\n",
       "       [ 1.,  4.],\n",
       "       [ 1.,  5.],\n",
       "       [ 1.,  6.],\n",
       "       [ 1.,  7.],\n",
       "       [ 1.,  8.],\n",
       "       [ 1.,  9.],\n",
       "       [ 1., 10.],\n",
       "       [ 1., 11.],\n",
       "       [ 2.,  1.],\n",
       "       [ 2.,  2.],\n",
       "       [ 2.,  3.],\n",
       "       [ 2.,  4.],\n",
       "       [ 2.,  5.],\n",
       "       [ 2.,  6.],\n",
       "       [ 2.,  7.],\n",
       "       [ 2.,  8.],\n",
       "       [ 2.,  9.],\n",
       "       [ 2., 10.],\n",
       "       [ 2., 11.],\n",
       "       [ 3.,  1.],\n",
       "       [ 3.,  2.],\n",
       "       [ 3.,  3.],\n",
       "       [ 3.,  4.],\n",
       "       [ 3.,  5.],\n",
       "       [ 3.,  6.],\n",
       "       [ 3.,  7.],\n",
       "       [ 3.,  8.],\n",
       "       [ 3.,  9.],\n",
       "       [ 3., 10.],\n",
       "       [ 3., 11.],\n",
       "       [ 4.,  1.],\n",
       "       [ 4.,  2.],\n",
       "       [ 4.,  3.],\n",
       "       [ 4.,  4.],\n",
       "       [ 4.,  5.],\n",
       "       [ 4.,  6.],\n",
       "       [ 4.,  7.],\n",
       "       [ 4.,  8.],\n",
       "       [ 4.,  9.],\n",
       "       [ 4., 10.],\n",
       "       [ 4., 11.],\n",
       "       [ 5.,  1.],\n",
       "       [ 5.,  2.],\n",
       "       [ 5.,  3.],\n",
       "       [ 5.,  4.],\n",
       "       [ 5.,  5.],\n",
       "       [ 5.,  6.],\n",
       "       [ 5.,  7.],\n",
       "       [ 5.,  8.],\n",
       "       [ 5.,  9.],\n",
       "       [ 5., 10.],\n",
       "       [ 5., 11.],\n",
       "       [ 6.,  1.],\n",
       "       [ 6.,  2.],\n",
       "       [ 6.,  3.],\n",
       "       [ 6.,  4.],\n",
       "       [ 6.,  5.],\n",
       "       [ 6.,  6.],\n",
       "       [ 6.,  7.],\n",
       "       [ 6.,  8.],\n",
       "       [ 6.,  9.],\n",
       "       [ 6., 10.],\n",
       "       [ 6., 11.],\n",
       "       [ 7.,  1.],\n",
       "       [ 7.,  2.],\n",
       "       [ 7.,  3.],\n",
       "       [ 7.,  4.],\n",
       "       [ 7.,  5.],\n",
       "       [ 7.,  6.],\n",
       "       [ 7.,  7.],\n",
       "       [ 7.,  8.],\n",
       "       [ 7.,  9.],\n",
       "       [ 7., 10.],\n",
       "       [ 7., 11.],\n",
       "       [ 8.,  1.],\n",
       "       [ 8.,  2.],\n",
       "       [ 8.,  3.],\n",
       "       [ 8.,  4.],\n",
       "       [ 8.,  5.],\n",
       "       [ 8.,  6.],\n",
       "       [ 8.,  7.],\n",
       "       [ 8.,  8.],\n",
       "       [ 8.,  9.],\n",
       "       [ 8., 10.],\n",
       "       [ 8., 11.],\n",
       "       [ 9.,  1.],\n",
       "       [ 9.,  2.],\n",
       "       [ 9.,  3.],\n",
       "       [ 9.,  4.],\n",
       "       [ 9.,  5.],\n",
       "       [ 9.,  6.],\n",
       "       [ 9.,  7.],\n",
       "       [ 9.,  8.],\n",
       "       [ 9.,  9.],\n",
       "       [ 9., 10.],\n",
       "       [ 9., 11.],\n",
       "       [10.,  1.],\n",
       "       [10.,  2.],\n",
       "       [10.,  3.],\n",
       "       [10.,  4.],\n",
       "       [10.,  5.],\n",
       "       [10.,  6.],\n",
       "       [10.,  7.],\n",
       "       [10.,  8.],\n",
       "       [10.,  9.],\n",
       "       [10., 10.],\n",
       "       [10., 11.],\n",
       "       [11.,  1.],\n",
       "       [11.,  2.],\n",
       "       [11.,  3.],\n",
       "       [11.,  4.],\n",
       "       [11.,  5.],\n",
       "       [11.,  6.],\n",
       "       [11.,  7.],\n",
       "       [11.,  8.],\n",
       "       [11.,  9.],\n",
       "       [11., 10.],\n",
       "       [11., 11.]])"
      ]
     },
     "execution_count": 33,
     "metadata": {},
     "output_type": "execute_result"
    }
   ],
   "source": [
    "actions"
   ]
  },
  {
   "cell_type": "code",
   "execution_count": 34,
   "metadata": {},
   "outputs": [
    {
     "ename": "NameError",
     "evalue": "name 'legal' is not defined",
     "output_type": "error",
     "traceback": [
      "\u001b[1;31m---------------------------------------------------------------------------\u001b[0m",
      "\u001b[1;31mNameError\u001b[0m                                 Traceback (most recent call last)",
      "\u001b[1;32m<ipython-input-34-7420294fc137>\u001b[0m in \u001b[0;36m<module>\u001b[1;34m\u001b[0m\n\u001b[1;32m----> 1\u001b[1;33m \u001b[0maction_idx\u001b[0m \u001b[1;33m=\u001b[0m \u001b[0mlegal\u001b[0m\u001b[1;33m.\u001b[0m\u001b[0mgather\u001b[0m\u001b[1;33m(\u001b[0m\u001b[1;36m0\u001b[0m\u001b[1;33m,\u001b[0m \u001b[0mchosen_q_idx\u001b[0m\u001b[1;33m)\u001b[0m\u001b[1;33m\u001b[0m\u001b[1;33m\u001b[0m\u001b[0m\n\u001b[0m",
      "\u001b[1;31mNameError\u001b[0m: name 'legal' is not defined"
     ]
    }
   ],
   "source": [
    "action_idx = legal.gather(0, chosen_q_idx)"
   ]
  },
  {
   "cell_type": "code",
   "execution_count": null,
   "metadata": {},
   "outputs": [],
   "source": [
    "action_idx.numpy()"
   ]
  },
  {
   "cell_type": "code",
   "execution_count": null,
   "metadata": {},
   "outputs": [],
   "source": [
    "np.take(actions, action_idx, 0)"
   ]
  },
  {
   "cell_type": "code",
   "execution_count": null,
   "metadata": {},
   "outputs": [],
   "source": [
    "actions[119]"
   ]
  },
  {
   "cell_type": "code",
   "execution_count": null,
   "metadata": {},
   "outputs": [],
   "source": []
  },
  {
   "cell_type": "code",
   "execution_count": null,
   "metadata": {},
   "outputs": [],
   "source": [
    "q = torch.rand(16, 132)"
   ]
  },
  {
   "cell_type": "code",
   "execution_count": null,
   "metadata": {},
   "outputs": [],
   "source": [
    "q"
   ]
  },
  {
   "cell_type": "code",
   "execution_count": null,
   "metadata": {},
   "outputs": [],
   "source": [
    "torch.rand(16,7,2, dtype=torch.long)"
   ]
  },
  {
   "cell_type": "code",
   "execution_count": null,
   "metadata": {},
   "outputs": [],
   "source": [
    "g = torch.tensor([[7,5,1,3,4,6,4], [4,5,4,3,2,1,2]])"
   ]
  },
  {
   "cell_type": "code",
   "execution_count": null,
   "metadata": {},
   "outputs": [],
   "source": [
    "t = torch.rand(2,132)"
   ]
  },
  {
   "cell_type": "code",
   "execution_count": null,
   "metadata": {},
   "outputs": [],
   "source": [
    "t"
   ]
  },
  {
   "cell_type": "code",
   "execution_count": null,
   "metadata": {},
   "outputs": [],
   "source": [
    "t.gather(1, g)"
   ]
  },
  {
   "cell_type": "code",
   "execution_count": null,
   "metadata": {},
   "outputs": [],
   "source": [
    "t"
   ]
  },
  {
   "cell_type": "code",
   "execution_count": null,
   "metadata": {},
   "outputs": [],
   "source": [
    "y = t.sort(1, descending=True)"
   ]
  },
  {
   "cell_type": "code",
   "execution_count": null,
   "metadata": {},
   "outputs": [],
   "source": [
    "nextq = []\n",
    "for x in y.values:\n",
    "    nextq.append(x[:7])\n",
    "nextq"
   ]
  },
  {
   "cell_type": "code",
   "execution_count": null,
   "metadata": {},
   "outputs": [],
   "source": [
    "torch.stack(nextq)"
   ]
  },
  {
   "cell_type": "code",
   "execution_count": null,
   "metadata": {},
   "outputs": [],
   "source": [
    "legal = legal.numpy()"
   ]
  },
  {
   "cell_type": "code",
   "execution_count": null,
   "metadata": {},
   "outputs": [],
   "source": [
    "import random"
   ]
  },
  {
   "cell_type": "code",
   "execution_count": null,
   "metadata": {},
   "outputs": [],
   "source": [
    "legal = random.sample(legal, 7)"
   ]
  },
  {
   "cell_type": "code",
   "execution_count": null,
   "metadata": {},
   "outputs": [],
   "source": [
    "legal"
   ]
  },
  {
   "cell_type": "code",
   "execution_count": null,
   "metadata": {},
   "outputs": [],
   "source": [
    "actions"
   ]
  },
  {
   "cell_type": "code",
   "execution_count": null,
   "metadata": {},
   "outputs": [],
   "source": [
    "np.take(actions, legal, 0)"
   ]
  },
  {
   "cell_type": "code",
   "execution_count": null,
   "metadata": {},
   "outputs": [],
   "source": [
    "actions[32]"
   ]
  },
  {
   "cell_type": "code",
   "execution_count": null,
   "metadata": {},
   "outputs": [],
   "source": [
    "predict = torch.tensor([ 0.0000,  2.2634,  0.0000,  0.0000, 14.5552,  0.0000,  4.0787, 22.1282,\n",
    "         8.6315,  0.0000,  0.0000,  2.2967,  0.0000, 11.2417,  0.0000,  0.0000,\n",
    "         2.6133,  0.0000,  0.0000,  0.0000,  0.0000, 10.4586,  5.7030,  0.0000,\n",
    "         0.0000, 12.8066,  0.0000,  0.0000,  0.0000,  3.9369,  0.0000,  2.3094,\n",
    "         0.0000,  2.2453,  0.0000, 10.3566,  0.0000,  0.0000,  0.0000,  8.4870,\n",
    "         0.0000,  0.0000,  1.9676,  7.8532,  4.9158, 12.1242,  0.0000,  0.0000,\n",
    "         5.5951,  0.0000, 11.2550,  0.0000, 18.0321,  0.0000,  0.0000,  0.0000,\n",
    "         7.2463,  0.0000,  0.0000,  0.1663,  0.0000,  0.0000,  0.0000,  4.2565,\n",
    "         0.0000,  8.6758,  7.2351,  0.0000, 13.7532,  0.5862,  0.0000, 10.1941,\n",
    "         0.0000,  8.6476,  7.2139,  2.8377,  0.0000,  0.0000,  3.3754,  0.0000,\n",
    "         1.9132,  0.5925,  5.3133,  0.0000,  4.2074,  0.0000,  3.5816,  0.0000,\n",
    "         1.8329, 18.0533,  4.7783,  0.0000,  8.2180,  8.0269,  0.0000,  0.0000,\n",
    "         0.0000,  0.0000,  0.0000,  0.0000,  0.0000,  0.0000,  0.0000,  0.0000,\n",
    "         0.0000,  2.1318,  7.4333,  0.0000,  5.6233, 10.2923,  7.0338,  0.0000,\n",
    "         0.0000,  0.0000,  0.0000,  0.0000,  0.0000,  0.0000,  7.2451,  0.3393,\n",
    "         0.0000, 14.0444,  0.2286,  0.0000,  0.0000,  0.0000,  4.0939,  0.0000],\n",
    "       device='cuda:0')"
   ]
  },
  {
   "cell_type": "code",
   "execution_count": null,
   "metadata": {},
   "outputs": [],
   "source": [
    "legal_id = torch.tensor([  2,   5,   8,  35,  36,  39,  41,  42,  55,  56,  57,  59,  70,  71,\n",
    "         72,  73,  74,  75,  81,  84,  85,  87,  88,  90,  91,  94, 123, 126,\n",
    "        129], device='cuda:0')"
   ]
  },
  {
   "cell_type": "code",
   "execution_count": 35,
   "metadata": {},
   "outputs": [
    {
     "ename": "NameError",
     "evalue": "name 'predict' is not defined",
     "output_type": "error",
     "traceback": [
      "\u001b[1;31m---------------------------------------------------------------------------\u001b[0m",
      "\u001b[1;31mNameError\u001b[0m                                 Traceback (most recent call last)",
      "\u001b[1;32m<ipython-input-35-694aa0baffef>\u001b[0m in \u001b[0;36m<module>\u001b[1;34m\u001b[0m\n\u001b[1;32m----> 1\u001b[1;33m \u001b[0mpredict\u001b[0m\u001b[1;33m.\u001b[0m\u001b[0mgather\u001b[0m\u001b[1;33m(\u001b[0m\u001b[1;36m0\u001b[0m\u001b[1;33m,\u001b[0m \u001b[0mlegal_id\u001b[0m\u001b[1;33m)\u001b[0m\u001b[1;33m\u001b[0m\u001b[1;33m\u001b[0m\u001b[0m\n\u001b[0m",
      "\u001b[1;31mNameError\u001b[0m: name 'predict' is not defined"
     ]
    }
   ],
   "source": [
    "predict.gather(0, legal_id)"
   ]
  },
  {
   "cell_type": "code",
   "execution_count": 36,
   "metadata": {},
   "outputs": [
    {
     "data": {
      "text/plain": [
       "tensor([[0.6771],\n",
       "        [0.6634],\n",
       "        [0.8403],\n",
       "        [0.2491],\n",
       "        [0.7572],\n",
       "        [0.3958],\n",
       "        [0.1591],\n",
       "        [0.2635],\n",
       "        [0.7663],\n",
       "        [0.3702]])"
      ]
     },
     "execution_count": 36,
     "metadata": {},
     "output_type": "execute_result"
    }
   ],
   "source": [
    "torch.rand(10).unsqueeze(1)"
   ]
  },
  {
   "cell_type": "code",
   "execution_count": 37,
   "metadata": {},
   "outputs": [
    {
     "data": {
      "text/plain": [
       "array([4., 2.])"
      ]
     },
     "execution_count": 37,
     "metadata": {},
     "output_type": "execute_result"
    }
   ],
   "source": [
    "actions[45]"
   ]
  },
  {
   "cell_type": "code",
   "execution_count": 38,
   "metadata": {},
   "outputs": [
    {
     "data": {
      "text/plain": [
       "array([4., 4.])"
      ]
     },
     "execution_count": 38,
     "metadata": {},
     "output_type": "execute_result"
    }
   ],
   "source": [
    "actions[47]"
   ]
  },
  {
   "cell_type": "code",
   "execution_count": 39,
   "metadata": {},
   "outputs": [
    {
     "data": {
      "text/plain": [
       "array([ 5., 11.])"
      ]
     },
     "execution_count": 39,
     "metadata": {},
     "output_type": "execute_result"
    }
   ],
   "source": [
    "actions[65]"
   ]
  },
  {
   "cell_type": "code",
   "execution_count": 40,
   "metadata": {},
   "outputs": [
    {
     "data": {
      "text/plain": [
       "array([6., 5.])"
      ]
     },
     "execution_count": 40,
     "metadata": {},
     "output_type": "execute_result"
    }
   ],
   "source": [
    "actions[70]"
   ]
  },
  {
   "cell_type": "code",
   "execution_count": 41,
   "metadata": {},
   "outputs": [
    {
     "ename": "NameError",
     "evalue": "name 'legal_moves' is not defined",
     "output_type": "error",
     "traceback": [
      "\u001b[1;31m---------------------------------------------------------------------------\u001b[0m",
      "\u001b[1;31mNameError\u001b[0m                                 Traceback (most recent call last)",
      "\u001b[1;32m<ipython-input-41-c2923fb07927>\u001b[0m in \u001b[0;36m<module>\u001b[1;34m\u001b[0m\n\u001b[1;32m----> 1\u001b[1;33m \u001b[0mlegal_moves\u001b[0m\u001b[1;33m(\u001b[0m\u001b[0mobservation\u001b[0m\u001b[1;33m)\u001b[0m\u001b[1;33m\u001b[0m\u001b[1;33m\u001b[0m\u001b[0m\n\u001b[0m",
      "\u001b[1;31mNameError\u001b[0m: name 'legal_moves' is not defined"
     ]
    }
   ],
   "source": [
    "legal_moves(observation)"
   ]
  },
  {
   "cell_type": "code",
   "execution_count": 42,
   "metadata": {},
   "outputs": [],
   "source": [
    "actions = [[68, 16, 121, 3, 41, 105, 89], [22, 23, 25, -1, -1, -1, -1], [18, 56, 112, 6, 33, 30, 98], [7, 63, 126, 88, 35, 108, 48], [38, 103, 120, 22, 46, 91, 122], [19, 68, 81, 98, 40, 116, 130], [69, 41, 99, 116, 4, 49, 32], [111, 29, 15, 68, 107, 91, 5], [13, 38, 102, 0, 30, 61, 131], [90, 37, 78, 130, 14, 72, 32]]"
   ]
  },
  {
   "cell_type": "code",
   "execution_count": 43,
   "metadata": {},
   "outputs": [
    {
     "data": {
      "text/plain": [
       "tensor([ 6.6712, -2.1252,  1.9800, -8.5756, -1.6728,  3.4628,  8.2426,  2.2607,\n",
       "        -3.0697,  5.8913,  2.9173, -0.6005, -0.8185,  2.5592,  2.0071, -0.4846,\n",
       "        -1.6680,  0.7731, -2.6719, -2.6306,  2.3806,  0.2284,  0.1485, -2.6063,\n",
       "        -0.6727, -1.0807, -5.9536, -3.1568,  0.1139, -2.5109, -0.6564, -1.1901,\n",
       "         1.0462, -1.4271, -0.2501, -3.8880, -0.8491,  2.7232,  3.3158,  0.1621,\n",
       "        -3.1153,  0.5378, -0.3714, -3.1410,  6.6479, -6.0671,  1.7127, -1.6592,\n",
       "         9.7451, -0.7874, -0.4999, -1.2743, -3.1192,  0.3740,  0.7207,  2.2177,\n",
       "         2.8771, -6.4476, -0.7109, -5.2483,  0.7600,  1.9684, -2.8296, -1.3688,\n",
       "        -8.8673,  1.6873, -5.6360,  1.6794,  6.7481,  4.5762,  3.9550,  0.7512,\n",
       "        -0.2830,  0.3564,  2.1869,  0.1820,  5.2436,  1.5922, -5.7179,  0.4404,\n",
       "        -2.8175, -5.3680, -1.9342, -3.1608, -1.7578, -1.9718,  0.1256,  7.7262,\n",
       "         0.9141, -3.7243,  3.4835,  1.7513, -1.8877,  0.5901, -1.7303,  2.0544,\n",
       "         2.7319, -5.2023, -2.6598, -5.3180,  2.7448, -3.7318,  0.2762,  1.5644,\n",
       "         5.1989, -1.1566, -0.8824, -4.6872,  4.8753, -3.0010,  3.9978,  3.8783,\n",
       "        -1.4496, -0.1098, -0.8281,  5.9493, -5.3427, -0.2939, -3.7390, -0.7096,\n",
       "        -3.1401, -4.4716,  1.4285, -0.3884, -3.0775,  1.5672,  0.4448,  6.0883,\n",
       "        -2.1210,  2.2619, -3.2213, -1.9363], grad_fn=<AddBackward0>)"
      ]
     },
     "execution_count": 43,
     "metadata": {},
     "output_type": "execute_result"
    }
   ],
   "source": [
    "preds"
   ]
  },
  {
   "cell_type": "code",
   "execution_count": 44,
   "metadata": {},
   "outputs": [],
   "source": [
    "preds = torch.rand(10,132)"
   ]
  },
  {
   "cell_type": "code",
   "execution_count": null,
   "metadata": {},
   "outputs": [],
   "source": []
  },
  {
   "cell_type": "code",
   "execution_count": 45,
   "metadata": {},
   "outputs": [
    {
     "data": {
      "text/plain": [
       "[tensor([0.3406, 0.7215, 0.7992, 0.3807, 0.4082, 0.5046, 0.3035]),\n",
       " tensor([0.3836, 0.2497, 0.3342, 0.0000, 0.0000, 0.0000, 0.0000]),\n",
       " tensor([0.0796, 0.6635, 0.0091, 0.4434, 0.7191, 0.1378, 0.9796]),\n",
       " tensor([0.3331, 0.2090, 0.2295, 0.8775, 0.7449, 0.0631, 0.9682]),\n",
       " tensor([0.8528, 0.8580, 0.8564, 0.7082, 0.9093, 0.4903, 0.2400]),\n",
       " tensor([0.1370, 0.9587, 0.0673, 0.6383, 0.7883, 0.6530, 0.6766]),\n",
       " tensor([0.4813, 0.4954, 0.4905, 0.2674, 0.0587, 0.9321, 0.6382]),\n",
       " tensor([0.1798, 0.9170, 0.4409, 0.7148, 0.1730, 0.8328, 0.3747]),\n",
       " tensor([0.8291, 0.0076, 0.5517, 0.3215, 0.0893, 0.9856, 0.5740]),\n",
       " tensor([0.1630, 0.1990, 0.9798, 0.6894, 0.0028, 0.6563, 0.9425])]"
      ]
     },
     "execution_count": 45,
     "metadata": {},
     "output_type": "execute_result"
    }
   ],
   "source": [
    "new_current_Q = []\n",
    "for idx, index_group in enumerate(actions):\n",
    "    x = []\n",
    "    for i in index_group:\n",
    "        if i > -1:\n",
    "            x.append(preds[idx][i])\n",
    "        else:\n",
    "            x.append(torch.tensor(0))\n",
    "    new_current_Q.append(torch.stack(x))\n",
    "new_current_Q\n",
    "\n",
    "    "
   ]
  },
  {
   "cell_type": "code",
   "execution_count": 46,
   "metadata": {},
   "outputs": [],
   "source": [
    "obs = torch.rand(10,105)"
   ]
  },
  {
   "cell_type": "code",
   "execution_count": 47,
   "metadata": {},
   "outputs": [],
   "source": [
    "preds = model(obs)"
   ]
  },
  {
   "cell_type": "code",
   "execution_count": 48,
   "metadata": {},
   "outputs": [
    {
     "data": {
      "text/plain": [
       "torch.Size([10, 132])"
      ]
     },
     "execution_count": 48,
     "metadata": {},
     "output_type": "execute_result"
    }
   ],
   "source": [
    "preds.shape"
   ]
  },
  {
   "cell_type": "code",
   "execution_count": 49,
   "metadata": {},
   "outputs": [
    {
     "data": {
      "text/plain": [
       "tensor([[-0.0257, -0.0249, -0.0507, -0.0445, -0.0090, -0.0403,  0.0145],\n",
       "        [-0.0699,  0.0003, -0.0562,  0.0000,  0.0000,  0.0000,  0.0000],\n",
       "        [-0.0801, -0.0088, -0.0073,  0.0954,  0.0134,  0.0679, -0.0829],\n",
       "        [ 0.0807,  0.0630, -0.0118,  0.0202, -0.1011, -0.0443, -0.0605],\n",
       "        [ 0.0118, -0.1081, -0.0657, -0.0531,  0.0321, -0.0507,  0.0229],\n",
       "        [-0.0601, -0.0259,  0.0825, -0.1044, -0.0894, -0.1092, -0.1278],\n",
       "        [ 0.1076, -0.0054,  0.0495, -0.1270, -0.0167, -0.0034,  0.0624],\n",
       "        [ 0.0470, -0.0101,  0.0081, -0.0373,  0.0103, -0.0480, -0.0738],\n",
       "        [ 0.0571,  0.0045, -0.0602, -0.0172,  0.0610, -0.0025,  0.0574],\n",
       "        [-0.0266,  0.0293,  0.0080, -0.1144, -0.0080,  0.1253,  0.0655]],\n",
       "       grad_fn=<StackBackward>)"
      ]
     },
     "execution_count": 49,
     "metadata": {},
     "output_type": "execute_result"
    }
   ],
   "source": [
    "new_current_Q = []\n",
    "for idx, index_group in enumerate(actions):\n",
    "    x = []\n",
    "    for i in index_group:\n",
    "        if i > -1:\n",
    "            x.append(preds[idx][i])\n",
    "        else:\n",
    "            x.append(torch.tensor(0))\n",
    "    new_current_Q.append(torch.stack(x))\n",
    "new_current_Q = torch.stack(new_current_Q)\n",
    "new_current_Q"
   ]
  },
  {
   "cell_type": "code",
   "execution_count": 50,
   "metadata": {},
   "outputs": [
    {
     "data": {
      "text/plain": [
       "tensor(0., grad_fn=<SelectBackward>)"
      ]
     },
     "execution_count": 50,
     "metadata": {},
     "output_type": "execute_result"
    }
   ],
   "source": [
    "new_current_Q[1][3]"
   ]
  },
  {
   "cell_type": "code",
   "execution_count": 51,
   "metadata": {},
   "outputs": [
    {
     "data": {
      "text/plain": [
       "tensor([4, 5, 7, 0, 0])"
      ]
     },
     "execution_count": 51,
     "metadata": {},
     "output_type": "execute_result"
    }
   ],
   "source": [
    "a = torch.tensor([4,5,7])\n",
    "b = torch.tensor([0])\n",
    "for i in range(2):\n",
    "    a = torch.cat((a,b))\n",
    "a"
   ]
  },
  {
   "cell_type": "code",
   "execution_count": 52,
   "metadata": {},
   "outputs": [],
   "source": [
    "list1 = np.array([])"
   ]
  },
  {
   "cell_type": "code",
   "execution_count": 53,
   "metadata": {},
   "outputs": [
    {
     "data": {
      "text/plain": [
       "(0,)"
      ]
     },
     "execution_count": 53,
     "metadata": {},
     "output_type": "execute_result"
    }
   ],
   "source": [
    "list1.shape"
   ]
  },
  {
   "cell_type": "code",
   "execution_count": 54,
   "metadata": {},
   "outputs": [
    {
     "data": {
      "text/plain": [
       "array([], shape=(0, 2), dtype=float64)"
      ]
     },
     "execution_count": 54,
     "metadata": {},
     "output_type": "execute_result"
    }
   ],
   "source": [
    "list1.reshape(0,2)"
   ]
  },
  {
   "cell_type": "code",
   "execution_count": 55,
   "metadata": {},
   "outputs": [],
   "source": [
    "observation = [  64.,    0.,    0.,  500.,    0.,    0.,    1.,  100.,    8.,\n",
    "      0.,    0.,  100.,    0.,    1.,    0.,  100.,    0.,    0.,\n",
    "      0.,  -88.,    0.,    0.,    0., -100.,   16.,    0.,    0.,\n",
    "    100.,   12.,    0.,    1., -100.,   16.,    0.,    0.,  -50.,\n",
    "      7.,    1.,    0.,  -13.,    8.,    0.,    0., -500.,   32.,\n",
    "      3.,    1.,   94.,    1.,    8.,   10.,    2.,   56.,    1.,\n",
    "      7.,    8.,    0.,   93.,    0.,    8.,    6.,    1.,   58.,\n",
    "      0.,    8.,    8.,    2.,    0.,    0.,    0.,    4.,    0.,\n",
    "    100.,    0.,    8.,    7.,    1.,   90.,    0.,    8.,    2.,\n",
    "      2.,  100.,    0.,    8.,    7.,    0.,  100.,    0.,    8.,\n",
    "      2.,    1.,   15.,    0.,    7.,    9.,    2.,   70.,    0.,\n",
    "      8.,    2.,    0.,   91.,    1.,   12.]"
   ]
  },
  {
   "cell_type": "code",
   "execution_count": 56,
   "metadata": {},
   "outputs": [],
   "source": [
    "player_helper = PlayerHelper(7,1, \"../config/DemoMap.json\")"
   ]
  },
  {
   "cell_type": "code",
   "execution_count": 57,
   "metadata": {},
   "outputs": [],
   "source": [
    "legal_obs = player_helper.legal_moves(observation).reshape(12,11)"
   ]
  },
  {
   "cell_type": "code",
   "execution_count": 58,
   "metadata": {},
   "outputs": [],
   "source": [
    "from utils import build_action_table"
   ]
  },
  {
   "cell_type": "code",
   "execution_count": 59,
   "metadata": {},
   "outputs": [],
   "source": [
    "table = build_action_table()"
   ]
  },
  {
   "cell_type": "code",
   "execution_count": 60,
   "metadata": {},
   "outputs": [],
   "source": [
    "table = table.reshape(12,11,2)"
   ]
  },
  {
   "cell_type": "code",
   "execution_count": 61,
   "metadata": {},
   "outputs": [
    {
     "data": {
      "text/plain": [
       "array([[False, False, False, False, False, False, False, False, False,\n",
       "        False, False],\n",
       "       [False, False, False, False, False, False, False, False, False,\n",
       "        False, False],\n",
       "       [False, False, False, False,  True, False, False,  True,  True,\n",
       "        False,  True],\n",
       "       [False, False,  True, False, False,  True, False, False,  True,\n",
       "        False, False],\n",
       "       [False, False, False, False, False, False, False, False, False,\n",
       "        False, False],\n",
       "       [ True, False,  True,  True, False, False,  True, False, False,\n",
       "        False, False],\n",
       "       [False, False,  True,  True, False, False,  True, False,  True,\n",
       "         True, False],\n",
       "       [ True,  True,  True, False,  True, False, False, False, False,\n",
       "        False, False],\n",
       "       [False, False,  True,  True, False, False,  True, False,  True,\n",
       "         True, False],\n",
       "       [ True,  True,  True, False,  True, False, False, False, False,\n",
       "        False, False],\n",
       "       [False, False, False, False,  True,  True,  True,  True,  True,\n",
       "         True, False],\n",
       "       [False, False, False, False, False, False, False, False, False,\n",
       "        False, False]])"
      ]
     },
     "execution_count": 61,
     "metadata": {},
     "output_type": "execute_result"
    }
   ],
   "source": [
    "legal_obs"
   ]
  },
  {
   "cell_type": "code",
   "execution_count": 62,
   "metadata": {},
   "outputs": [
    {
     "data": {
      "text/plain": [
       "array([[[ 0.,  1.],\n",
       "        [ 0.,  2.],\n",
       "        [ 0.,  3.],\n",
       "        [ 0.,  4.],\n",
       "        [ 0.,  5.],\n",
       "        [ 0.,  6.],\n",
       "        [ 0.,  7.],\n",
       "        [ 0.,  8.],\n",
       "        [ 0.,  9.],\n",
       "        [ 0., 10.],\n",
       "        [ 0., 11.]],\n",
       "\n",
       "       [[ 1.,  1.],\n",
       "        [ 1.,  2.],\n",
       "        [ 1.,  3.],\n",
       "        [ 1.,  4.],\n",
       "        [ 1.,  5.],\n",
       "        [ 1.,  6.],\n",
       "        [ 1.,  7.],\n",
       "        [ 1.,  8.],\n",
       "        [ 1.,  9.],\n",
       "        [ 1., 10.],\n",
       "        [ 1., 11.]],\n",
       "\n",
       "       [[ 2.,  1.],\n",
       "        [ 2.,  2.],\n",
       "        [ 2.,  3.],\n",
       "        [ 2.,  4.],\n",
       "        [ 2.,  5.],\n",
       "        [ 2.,  6.],\n",
       "        [ 2.,  7.],\n",
       "        [ 2.,  8.],\n",
       "        [ 2.,  9.],\n",
       "        [ 2., 10.],\n",
       "        [ 2., 11.]],\n",
       "\n",
       "       [[ 3.,  1.],\n",
       "        [ 3.,  2.],\n",
       "        [ 3.,  3.],\n",
       "        [ 3.,  4.],\n",
       "        [ 3.,  5.],\n",
       "        [ 3.,  6.],\n",
       "        [ 3.,  7.],\n",
       "        [ 3.,  8.],\n",
       "        [ 3.,  9.],\n",
       "        [ 3., 10.],\n",
       "        [ 3., 11.]],\n",
       "\n",
       "       [[ 4.,  1.],\n",
       "        [ 4.,  2.],\n",
       "        [ 4.,  3.],\n",
       "        [ 4.,  4.],\n",
       "        [ 4.,  5.],\n",
       "        [ 4.,  6.],\n",
       "        [ 4.,  7.],\n",
       "        [ 4.,  8.],\n",
       "        [ 4.,  9.],\n",
       "        [ 4., 10.],\n",
       "        [ 4., 11.]],\n",
       "\n",
       "       [[ 5.,  1.],\n",
       "        [ 5.,  2.],\n",
       "        [ 5.,  3.],\n",
       "        [ 5.,  4.],\n",
       "        [ 5.,  5.],\n",
       "        [ 5.,  6.],\n",
       "        [ 5.,  7.],\n",
       "        [ 5.,  8.],\n",
       "        [ 5.,  9.],\n",
       "        [ 5., 10.],\n",
       "        [ 5., 11.]],\n",
       "\n",
       "       [[ 6.,  1.],\n",
       "        [ 6.,  2.],\n",
       "        [ 6.,  3.],\n",
       "        [ 6.,  4.],\n",
       "        [ 6.,  5.],\n",
       "        [ 6.,  6.],\n",
       "        [ 6.,  7.],\n",
       "        [ 6.,  8.],\n",
       "        [ 6.,  9.],\n",
       "        [ 6., 10.],\n",
       "        [ 6., 11.]],\n",
       "\n",
       "       [[ 7.,  1.],\n",
       "        [ 7.,  2.],\n",
       "        [ 7.,  3.],\n",
       "        [ 7.,  4.],\n",
       "        [ 7.,  5.],\n",
       "        [ 7.,  6.],\n",
       "        [ 7.,  7.],\n",
       "        [ 7.,  8.],\n",
       "        [ 7.,  9.],\n",
       "        [ 7., 10.],\n",
       "        [ 7., 11.]],\n",
       "\n",
       "       [[ 8.,  1.],\n",
       "        [ 8.,  2.],\n",
       "        [ 8.,  3.],\n",
       "        [ 8.,  4.],\n",
       "        [ 8.,  5.],\n",
       "        [ 8.,  6.],\n",
       "        [ 8.,  7.],\n",
       "        [ 8.,  8.],\n",
       "        [ 8.,  9.],\n",
       "        [ 8., 10.],\n",
       "        [ 8., 11.]],\n",
       "\n",
       "       [[ 9.,  1.],\n",
       "        [ 9.,  2.],\n",
       "        [ 9.,  3.],\n",
       "        [ 9.,  4.],\n",
       "        [ 9.,  5.],\n",
       "        [ 9.,  6.],\n",
       "        [ 9.,  7.],\n",
       "        [ 9.,  8.],\n",
       "        [ 9.,  9.],\n",
       "        [ 9., 10.],\n",
       "        [ 9., 11.]],\n",
       "\n",
       "       [[10.,  1.],\n",
       "        [10.,  2.],\n",
       "        [10.,  3.],\n",
       "        [10.,  4.],\n",
       "        [10.,  5.],\n",
       "        [10.,  6.],\n",
       "        [10.,  7.],\n",
       "        [10.,  8.],\n",
       "        [10.,  9.],\n",
       "        [10., 10.],\n",
       "        [10., 11.]],\n",
       "\n",
       "       [[11.,  1.],\n",
       "        [11.,  2.],\n",
       "        [11.,  3.],\n",
       "        [11.,  4.],\n",
       "        [11.,  5.],\n",
       "        [11.,  6.],\n",
       "        [11.,  7.],\n",
       "        [11.,  8.],\n",
       "        [11.,  9.],\n",
       "        [11., 10.],\n",
       "        [11., 11.]]])"
      ]
     },
     "execution_count": 62,
     "metadata": {},
     "output_type": "execute_result"
    }
   ],
   "source": [
    "table"
   ]
  },
  {
   "cell_type": "code",
   "execution_count": 63,
   "metadata": {},
   "outputs": [],
   "source": [
    "model= BranchingQNetwork(105, 7, 132, 128, \"eps\")"
   ]
  },
  {
   "cell_type": "code",
   "execution_count": 64,
   "metadata": {},
   "outputs": [],
   "source": [
    "obs = torch.tensor(observation).float()"
   ]
  },
  {
   "cell_type": "code",
   "execution_count": 65,
   "metadata": {},
   "outputs": [
    {
     "data": {
      "text/plain": [
       "tensor([  64.,    0.,    0.,  500.,    0.,    0.,    1.,  100.,    8.,    0.,\n",
       "           0.,  100.,    0.,    1.,    0.,  100.,    0.,    0.,    0.,  -88.,\n",
       "           0.,    0.,    0., -100.,   16.,    0.,    0.,  100.,   12.,    0.,\n",
       "           1., -100.,   16.,    0.,    0.,  -50.,    7.,    1.,    0.,  -13.,\n",
       "           8.,    0.,    0., -500.,   32.,    3.,    1.,   94.,    1.,    8.,\n",
       "          10.,    2.,   56.,    1.,    7.,    8.,    0.,   93.,    0.,    8.,\n",
       "           6.,    1.,   58.,    0.,    8.,    8.,    2.,    0.,    0.,    0.,\n",
       "           4.,    0.,  100.,    0.,    8.,    7.,    1.,   90.,    0.,    8.,\n",
       "           2.,    2.,  100.,    0.,    8.,    7.,    0.,  100.,    0.,    8.,\n",
       "           2.,    1.,   15.,    0.,    7.,    9.,    2.,   70.,    0.,    8.,\n",
       "           2.,    0.,   91.,    1.,   12.])"
      ]
     },
     "execution_count": 65,
     "metadata": {},
     "output_type": "execute_result"
    }
   ],
   "source": [
    "obs"
   ]
  },
  {
   "cell_type": "code",
   "execution_count": 66,
   "metadata": {},
   "outputs": [],
   "source": [
    "preds = model(obs)"
   ]
  },
  {
   "cell_type": "code",
   "execution_count": 67,
   "metadata": {},
   "outputs": [
    {
     "data": {
      "text/plain": [
       "tensor([-1.1966, -2.6933,  0.6060,  1.6348,  3.6760, -0.6401, -2.4070,  4.0443,\n",
       "        -1.3758,  3.6266, -2.8390, -3.3912, -0.4062, -0.3077,  3.9133, -4.9548,\n",
       "        -1.9529,  0.3084,  3.9895, -1.1424, -6.4819,  0.1007,  0.3193, -4.5960,\n",
       "        -1.8689, -1.6001, -2.2641, -1.5221,  5.1791, -3.8906, -5.1401,  2.5782,\n",
       "        -1.2943,  0.2346,  0.1916,  5.0937,  5.8389, -0.2643, -2.3624, -5.4610,\n",
       "        -0.0470, -5.9185,  4.4464, -3.9921, -1.4261, -0.6219,  1.0511,  3.0031,\n",
       "         3.4777, -1.4364,  0.3361,  0.4129,  0.3662, -3.9045, -4.2403, -7.7173,\n",
       "        -4.4181,  0.4239, -3.1763,  0.7257, -1.4770,  3.3168,  1.3692, -5.0368,\n",
       "        -3.4762,  5.1628,  5.0945, -0.3278, -4.9620,  0.4313, -1.1806,  6.5422,\n",
       "         5.6312, -1.7364,  0.0743,  3.1601, -0.0183,  2.1697, -0.0870,  6.1700,\n",
       "         0.0304,  0.1304,  0.0123,  1.6201,  0.8869, -0.7071, -2.0701,  0.4372,\n",
       "         3.1688,  5.6347, -0.8657, -2.3009,  3.4616,  6.3314,  4.1655,  1.8888,\n",
       "        -2.1762, -0.0448, -4.8028, -1.3178, -2.6792, -1.5152, -1.0722, -3.3383,\n",
       "         8.1777, -0.1113,  0.2441,  1.0002, -6.4647, -0.3191, -7.4924,  0.8171,\n",
       "         5.6933, -2.5877, -1.8120,  4.9609, -0.4604,  0.8881, -3.2993, -1.2611,\n",
       "         0.1720, -3.9033,  4.0120, -5.5788,  2.1451,  2.8509, -3.3242, -3.7340,\n",
       "         0.5011, -0.4037,  1.5370,  1.0870], grad_fn=<AddBackward0>)"
      ]
     },
     "execution_count": 67,
     "metadata": {},
     "output_type": "execute_result"
    }
   ],
   "source": [
    "preds"
   ]
  },
  {
   "cell_type": "code",
   "execution_count": 68,
   "metadata": {},
   "outputs": [],
   "source": [
    "preds = preds.reshape(12, 11)"
   ]
  },
  {
   "cell_type": "code",
   "execution_count": 69,
   "metadata": {},
   "outputs": [
    {
     "data": {
      "text/plain": [
       "tensor([[-1.1966, -2.6933,  0.6060,  1.6348,  3.6760, -0.6401, -2.4070,  4.0443,\n",
       "         -1.3758,  3.6266, -2.8390],\n",
       "        [-3.3912, -0.4062, -0.3077,  3.9133, -4.9548, -1.9529,  0.3084,  3.9895,\n",
       "         -1.1424, -6.4819,  0.1007],\n",
       "        [ 0.3193, -4.5960, -1.8689, -1.6001, -2.2641, -1.5221,  5.1791, -3.8906,\n",
       "         -5.1401,  2.5782, -1.2943],\n",
       "        [ 0.2346,  0.1916,  5.0937,  5.8389, -0.2643, -2.3624, -5.4610, -0.0470,\n",
       "         -5.9185,  4.4464, -3.9921],\n",
       "        [-1.4261, -0.6219,  1.0511,  3.0031,  3.4777, -1.4364,  0.3361,  0.4129,\n",
       "          0.3662, -3.9045, -4.2403],\n",
       "        [-7.7173, -4.4181,  0.4239, -3.1763,  0.7257, -1.4770,  3.3168,  1.3692,\n",
       "         -5.0368, -3.4762,  5.1628],\n",
       "        [ 5.0945, -0.3278, -4.9620,  0.4313, -1.1806,  6.5422,  5.6312, -1.7364,\n",
       "          0.0743,  3.1601, -0.0183],\n",
       "        [ 2.1697, -0.0870,  6.1700,  0.0304,  0.1304,  0.0123,  1.6201,  0.8869,\n",
       "         -0.7071, -2.0701,  0.4372],\n",
       "        [ 3.1688,  5.6347, -0.8657, -2.3009,  3.4616,  6.3314,  4.1655,  1.8888,\n",
       "         -2.1762, -0.0448, -4.8028],\n",
       "        [-1.3178, -2.6792, -1.5152, -1.0722, -3.3383,  8.1777, -0.1113,  0.2441,\n",
       "          1.0002, -6.4647, -0.3191],\n",
       "        [-7.4924,  0.8171,  5.6933, -2.5877, -1.8120,  4.9609, -0.4604,  0.8881,\n",
       "         -3.2993, -1.2611,  0.1720],\n",
       "        [-3.9033,  4.0120, -5.5788,  2.1451,  2.8509, -3.3242, -3.7340,  0.5011,\n",
       "         -0.4037,  1.5370,  1.0870]], grad_fn=<ViewBackward>)"
      ]
     },
     "execution_count": 69,
     "metadata": {},
     "output_type": "execute_result"
    }
   ],
   "source": [
    "preds"
   ]
  },
  {
   "cell_type": "code",
   "execution_count": 70,
   "metadata": {},
   "outputs": [
    {
     "data": {
      "text/plain": [
       "array([[False, False, False, False, False, False, False, False, False,\n",
       "        False, False],\n",
       "       [False, False, False, False, False, False, False, False, False,\n",
       "        False, False],\n",
       "       [False, False, False, False,  True, False, False,  True,  True,\n",
       "        False,  True],\n",
       "       [False, False,  True, False, False,  True, False, False,  True,\n",
       "        False, False],\n",
       "       [False, False, False, False, False, False, False, False, False,\n",
       "        False, False],\n",
       "       [ True, False,  True,  True, False, False,  True, False, False,\n",
       "        False, False],\n",
       "       [False, False,  True,  True, False, False,  True, False,  True,\n",
       "         True, False],\n",
       "       [ True,  True,  True, False,  True, False, False, False, False,\n",
       "        False, False],\n",
       "       [False, False,  True,  True, False, False,  True, False,  True,\n",
       "         True, False],\n",
       "       [ True,  True,  True, False,  True, False, False, False, False,\n",
       "        False, False],\n",
       "       [False, False, False, False,  True,  True,  True,  True,  True,\n",
       "         True, False],\n",
       "       [False, False, False, False, False, False, False, False, False,\n",
       "        False, False]])"
      ]
     },
     "execution_count": 70,
     "metadata": {},
     "output_type": "execute_result"
    }
   ],
   "source": [
    "legal_obs\n"
   ]
  },
  {
   "cell_type": "code",
   "execution_count": 74,
   "metadata": {},
   "outputs": [],
   "source": [
    "for i in range(len(legal_obs)):\n",
    "    for j in range(len(legal_obs[0])):\n",
    "        if legal_obs[i][j] == False:\n",
    "            preds[i][j] = -math.inf"
   ]
  },
  {
   "cell_type": "code",
   "execution_count": 73,
   "metadata": {},
   "outputs": [],
   "source": [
    "import math"
   ]
  },
  {
   "cell_type": "code",
   "execution_count": 75,
   "metadata": {},
   "outputs": [
    {
     "data": {
      "text/plain": [
       "tensor([[   -inf,    -inf,    -inf,    -inf,    -inf,    -inf,    -inf,    -inf,\n",
       "            -inf,    -inf,    -inf],\n",
       "        [   -inf,    -inf,    -inf,    -inf,    -inf,    -inf,    -inf,    -inf,\n",
       "            -inf,    -inf,    -inf],\n",
       "        [   -inf,    -inf,    -inf,    -inf, -2.2641,    -inf,    -inf, -3.8906,\n",
       "         -5.1401,    -inf, -1.2943],\n",
       "        [   -inf,    -inf,  5.0937,    -inf,    -inf, -2.3624,    -inf,    -inf,\n",
       "         -5.9185,    -inf,    -inf],\n",
       "        [   -inf,    -inf,    -inf,    -inf,    -inf,    -inf,    -inf,    -inf,\n",
       "            -inf,    -inf,    -inf],\n",
       "        [-7.7173,    -inf,  0.4239, -3.1763,    -inf,    -inf,  3.3168,    -inf,\n",
       "            -inf,    -inf,    -inf],\n",
       "        [   -inf,    -inf, -4.9620,  0.4313,    -inf,    -inf,  5.6312,    -inf,\n",
       "          0.0743,  3.1601,    -inf],\n",
       "        [ 2.1697, -0.0870,  6.1700,    -inf,  0.1304,    -inf,    -inf,    -inf,\n",
       "            -inf,    -inf,    -inf],\n",
       "        [   -inf,    -inf, -0.8657, -2.3009,    -inf,    -inf,  4.1655,    -inf,\n",
       "         -2.1762, -0.0448,    -inf],\n",
       "        [-1.3178, -2.6792, -1.5152,    -inf, -3.3383,    -inf,    -inf,    -inf,\n",
       "            -inf,    -inf,    -inf],\n",
       "        [   -inf,    -inf,    -inf,    -inf, -1.8120,  4.9609, -0.4604,  0.8881,\n",
       "         -3.2993, -1.2611,    -inf],\n",
       "        [   -inf,    -inf,    -inf,    -inf,    -inf,    -inf,    -inf,    -inf,\n",
       "            -inf,    -inf,    -inf]], grad_fn=<AsStridedBackward>)"
      ]
     },
     "execution_count": 75,
     "metadata": {},
     "output_type": "execute_result"
    }
   ],
   "source": [
    "preds"
   ]
  },
  {
   "cell_type": "code",
   "execution_count": 80,
   "metadata": {},
   "outputs": [
    {
     "data": {
      "text/plain": [
       "torch.return_types.max(\n",
       "values=tensor([   -inf,    -inf, -1.2943,  5.0937,    -inf,  3.3168,  5.6312,  6.1700,\n",
       "         4.1655, -1.3178,  4.9609,    -inf], grad_fn=<MaxBackward0>),\n",
       "indices=tensor([ 0,  0, 10,  2,  0,  6,  6,  2,  6,  0,  5,  0]))"
      ]
     },
     "execution_count": 80,
     "metadata": {},
     "output_type": "execute_result"
    }
   ],
   "source": [
    "preds.max(1)"
   ]
  },
  {
   "cell_type": "code",
   "execution_count": 82,
   "metadata": {},
   "outputs": [],
   "source": [
    "actions=preds.max(1)"
   ]
  },
  {
   "cell_type": "code",
   "execution_count": 91,
   "metadata": {},
   "outputs": [],
   "source": [
    "actions_max = actions.values.sort(descending=True)"
   ]
  },
  {
   "cell_type": "code",
   "execution_count": 92,
   "metadata": {},
   "outputs": [],
   "source": [
    "actions_max_values = actions_max.values[:7]"
   ]
  },
  {
   "cell_type": "code",
   "execution_count": 93,
   "metadata": {},
   "outputs": [],
   "source": [
    "actions_max_idx = actions_max.indices[:7]"
   ]
  },
  {
   "cell_type": "code",
   "execution_count": 102,
   "metadata": {},
   "outputs": [],
   "source": [
    "location = actions.indices.gather(0, actions_max_idx)"
   ]
  },
  {
   "cell_type": "code",
   "execution_count": 96,
   "metadata": {},
   "outputs": [
    {
     "data": {
      "text/plain": [
       "torch.return_types.sort(\n",
       "values=tensor([ 6.1700,  5.6312,  5.0937,  4.9609,  4.1655,  3.3168, -1.2943, -1.3178,\n",
       "           -inf,    -inf,    -inf,    -inf], grad_fn=<SortBackward>),\n",
       "indices=tensor([ 7,  6,  3, 10,  8,  5,  2,  9,  0,  1,  4, 11]))"
      ]
     },
     "execution_count": 96,
     "metadata": {},
     "output_type": "execute_result"
    }
   ],
   "source": [
    "actions_max"
   ]
  },
  {
   "cell_type": "code",
   "execution_count": 103,
   "metadata": {},
   "outputs": [],
   "source": [
    "group = actions_max_idx"
   ]
  },
  {
   "cell_type": "code",
   "execution_count": 106,
   "metadata": {},
   "outputs": [],
   "source": [
    "location = location + 1"
   ]
  },
  {
   "cell_type": "code",
   "execution_count": 118,
   "metadata": {},
   "outputs": [],
   "source": [
    "action = [[g, l] for g, l in zip(group.numpy(), location.numpy())]"
   ]
  },
  {
   "cell_type": "code",
   "execution_count": 119,
   "metadata": {},
   "outputs": [
    {
     "data": {
      "text/plain": [
       "[[7, 3], [6, 7], [3, 3], [10, 6], [8, 7], [5, 7], [2, 11]]"
      ]
     },
     "execution_count": 119,
     "metadata": {},
     "output_type": "execute_result"
    }
   ],
   "source": [
    "action"
   ]
  },
  {
   "cell_type": "code",
   "execution_count": 113,
   "metadata": {},
   "outputs": [
    {
     "data": {
      "text/plain": [
       "tensor([ 7,  6,  3, 10,  8,  5,  2])"
      ]
     },
     "execution_count": 113,
     "metadata": {},
     "output_type": "execute_result"
    }
   ],
   "source": [
    "group \n"
   ]
  },
  {
   "cell_type": "code",
   "execution_count": 114,
   "metadata": {},
   "outputs": [
    {
     "data": {
      "text/plain": [
       "tensor([ 3,  7,  3,  6,  7,  7, 11])"
      ]
     },
     "execution_count": 114,
     "metadata": {},
     "output_type": "execute_result"
    }
   ],
   "source": [
    "location"
   ]
  },
  {
   "cell_type": "code",
   "execution_count": 120,
   "metadata": {},
   "outputs": [],
   "source": [
    "infinite = -math.inf"
   ]
  },
  {
   "cell_type": "code",
   "execution_count": 152,
   "metadata": {},
   "outputs": [],
   "source": [
    "ex = torch.tensor([6.1700,  5.6312,  infinite,  infinite,  4.1655, infinite, infinite])"
   ]
  },
  {
   "cell_type": "code",
   "execution_count": 137,
   "metadata": {},
   "outputs": [],
   "source": [
    "re = torch.tensor([0,-1,1,0,1,0,-1])"
   ]
  },
  {
   "cell_type": "code",
   "execution_count": 139,
   "metadata": {},
   "outputs": [
    {
     "data": {
      "text/plain": [
       "tensor([5.6764, 4.1807, 5.6862, 4.5640, 4.8323,   -inf,   -inf])"
      ]
     },
     "execution_count": 139,
     "metadata": {},
     "output_type": "execute_result"
    }
   ],
   "source": [
    "re + ex * 0.92"
   ]
  },
  {
   "cell_type": "code",
   "execution_count": 143,
   "metadata": {},
   "outputs": [
    {
     "data": {
      "text/plain": [
       "[[7, 3], [6, 7], [3, 3], [10, 6], [8, 7], [5, 7], [2, 11]]"
      ]
     },
     "execution_count": 143,
     "metadata": {},
     "output_type": "execute_result"
    }
   ],
   "source": [
    "action"
   ]
  },
  {
   "cell_type": "code",
   "execution_count": 153,
   "metadata": {},
   "outputs": [],
   "source": [
    "for i in range(len(action)):\n",
    "    if actions_max_values[i] == -math.inf:\n",
    "        action[i] = [0,0]"
   ]
  },
  {
   "cell_type": "code",
   "execution_count": 154,
   "metadata": {},
   "outputs": [
    {
     "data": {
      "text/plain": [
       "[[7, 3], [6, 7], [0, 0], [0, 0], [8, 7], [0, 0], [0, 0]]"
      ]
     },
     "execution_count": 154,
     "metadata": {},
     "output_type": "execute_result"
    }
   ],
   "source": [
    "action"
   ]
  },
  {
   "cell_type": "code",
   "execution_count": 155,
   "metadata": {},
   "outputs": [
    {
     "data": {
      "text/plain": [
       "tensor(-inf)"
      ]
     },
     "execution_count": 155,
     "metadata": {},
     "output_type": "execute_result"
    }
   ],
   "source": [
    "ex.mean()"
   ]
  },
  {
   "cell_type": "code",
   "execution_count": 156,
   "metadata": {},
   "outputs": [],
   "source": [
    "action = torch.tensor(action)"
   ]
  },
  {
   "cell_type": "code",
   "execution_count": 157,
   "metadata": {},
   "outputs": [
    {
     "data": {
      "text/plain": [
       "tensor([[7, 3],\n",
       "        [6, 7],\n",
       "        [0, 0],\n",
       "        [0, 0],\n",
       "        [8, 7],\n",
       "        [0, 0],\n",
       "        [0, 0]])"
      ]
     },
     "execution_count": 157,
     "metadata": {},
     "output_type": "execute_result"
    }
   ],
   "source": [
    "action"
   ]
  },
  {
   "cell_type": "code",
   "execution_count": 159,
   "metadata": {},
   "outputs": [
    {
     "data": {
      "text/plain": [
       "tensor([[7, 6, 0, 0, 8, 0, 0],\n",
       "        [3, 7, 0, 0, 7, 0, 0]])"
      ]
     },
     "execution_count": 159,
     "metadata": {},
     "output_type": "execute_result"
    }
   ],
   "source": [
    "action.transpose(0,1)"
   ]
  },
  {
   "cell_type": "code",
   "execution_count": 160,
   "metadata": {},
   "outputs": [],
   "source": [
    "from utils import build_action_table"
   ]
  },
  {
   "cell_type": "code",
   "execution_count": 161,
   "metadata": {},
   "outputs": [],
   "source": [
    "table = build_action_table()"
   ]
  },
  {
   "cell_type": "code",
   "execution_count": 165,
   "metadata": {},
   "outputs": [
    {
     "data": {
      "text/plain": [
       "array([8., 7.])"
      ]
     },
     "execution_count": 165,
     "metadata": {},
     "output_type": "execute_result"
    }
   ],
   "source": [
    "table[94]"
   ]
  },
  {
   "cell_type": "code",
   "execution_count": 166,
   "metadata": {},
   "outputs": [
    {
     "data": {
      "text/plain": [
       "tensor([[7, 3],\n",
       "        [6, 7],\n",
       "        [0, 0],\n",
       "        [0, 0],\n",
       "        [8, 7],\n",
       "        [0, 0],\n",
       "        [0, 0]])"
      ]
     },
     "execution_count": 166,
     "metadata": {},
     "output_type": "execute_result"
    }
   ],
   "source": [
    "action"
   ]
  },
  {
   "cell_type": "code",
   "execution_count": null,
   "metadata": {},
   "outputs": [],
   "source": []
  }
 ],
 "metadata": {
  "kernelspec": {
   "display_name": "Python 3",
   "language": "python",
   "name": "python3"
  },
  "language_info": {
   "codemirror_mode": {
    "name": "ipython",
    "version": 3
   },
   "file_extension": ".py",
   "mimetype": "text/x-python",
   "name": "python",
   "nbconvert_exporter": "python",
   "pygments_lexer": "ipython3",
   "version": "3.8.8"
  }
 },
 "nbformat": 4,
 "nbformat_minor": 4
}
