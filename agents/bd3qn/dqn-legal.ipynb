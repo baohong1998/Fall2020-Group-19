{
 "cells": [
  {
   "cell_type": "code",
   "execution_count": 7,
   "metadata": {},
   "outputs": [],
   "source": [
    "import torch\n",
    "import torch.nn as nn\n",
    "import torch.nn.functional as F\n",
    "import torch.optim as optim\n",
    "import numpy as np\n",
    "from noisy_net import NoisyLinear, NoisyFactorizedLinear\n",
    "from player import PlayerHelper"
   ]
  },
  {
   "cell_type": "code",
   "execution_count": 8,
   "metadata": {},
   "outputs": [],
   "source": [
    "class BranchingQNetwork(nn.Module):\n",
    "    def __init__(self, observation_space, action_space, action_bins, hidden_dim, exploration_method, architecture = \"DQN\"):\n",
    "        super().__init__()\n",
    "        self.exploration_method = exploration_method\n",
    "        # if self.exploration_method == \"Noisy\":\n",
    "        #     self.model = nn.Sequential(\n",
    "        #         NoisyLinear(observation_space, hidden_dim*4),\n",
    "        #         nn.ReLU(),\n",
    "        #         NoisyLinear(hidden_dim*4, hidden_dim*2),\n",
    "        #         nn.ReLU(),\n",
    "        #         NoisyLinear(hidden_dim*2, hidden_dim),\n",
    "        #         nn.ReLU()\n",
    "        #     )\n",
    "        #     self.value_head = NoisyLinear(hidden_dim, 1)\n",
    "        #     self.adv_heads = nn.ModuleList(\n",
    "        #         [NoisyLinear(hidden_dim, action_bins) for i in range(action_space)])\n",
    "        # else:\n",
    "        self.architecture = architecture\n",
    "        self.model = nn.Sequential(\n",
    "            nn.Linear(observation_space, hidden_dim*4),\n",
    "            nn.ReLU(),\n",
    "            nn.Linear(hidden_dim*4, hidden_dim*2),\n",
    "            nn.ReLU(),\n",
    "            nn.Linear(hidden_dim*2, hidden_dim),\n",
    "            nn.ReLU()\n",
    "        )\n",
    "        if architecture == \"Dueling\":\n",
    "            self.value_head = nn.Linear(hidden_dim, 1)\n",
    "            self.adv_heads = nn.Linear(hidden_dim, action_bins)\n",
    "        else:\n",
    "            self.out = nn.Linear(hidden_dim, action_bins)\n",
    "            \n",
    "    def forward(self, x):\n",
    "        first_layer = self.model(x)\n",
    "        out = self.out(first_layer)\n",
    "        q_val = out\n",
    "        if self.architecture == \"Dueling\":\n",
    "            value = self.value_head(out)\n",
    "            advs = self.advs_heads(out)\n",
    "            q_val = value + advs - advs.mean()\n",
    "        # if value.shape[0] == 1:\n",
    "        #     advs = torch.stack([l(out) for l in self.adv_heads], dim=0)\n",
    "        #     q_val = value + advs - advs.mean(1, keepdim=True)\n",
    "        # else:\n",
    "        #     advs = torch.stack([l(out) for l in self.adv_heads], dim=1)\n",
    "        #     q_val = value.unsqueeze(1) + advs - advs.mean(2, keepdim=True)\n",
    "        return q_val\n",
    "\n"
   ]
  },
  {
   "cell_type": "code",
   "execution_count": 9,
   "metadata": {},
   "outputs": [],
   "source": [
    "observation = [  64.,    0.,    0.,  500.,    0.,    0.,    1.,  100.,    8.,\n",
    "      0.,    0.,  100.,    0.,    1.,    0.,  100.,    0.,    0.,\n",
    "      0.,  -88.,    0.,    0.,    0., -100.,   16.,    0.,    0.,\n",
    "    100.,   12.,    0.,    1., -100.,   16.,    0.,    0.,  -50.,\n",
    "      7.,    1.,    0.,  -13.,    8.,    0.,    0., -500.,   32.,\n",
    "      3.,    1.,   94.,    1.,    8.,   10.,    2.,   56.,    1.,\n",
    "      7.,    8.,    0.,   93.,    0.,    8.,    6.,    1.,   58.,\n",
    "      0.,    8.,    8.,    2.,    0.,    0.,    0.,    4.,    0.,\n",
    "    100.,    0.,    8.,    7.,    1.,   90.,    0.,    8.,    2.,\n",
    "      2.,  100.,    0.,    8.,    7.,    0.,  100.,    0.,    8.,\n",
    "      2.,    1.,   15.,    0.,    7.,    9.,    2.,   70.,    0.,\n",
    "      8.,    2.,    0.,   91.,    1.,   12.]"
   ]
  },
  {
   "cell_type": "code",
   "execution_count": 10,
   "metadata": {},
   "outputs": [],
   "source": [
    "player_helper = PlayerHelper(7,1, \"../config/DemoMap.json\")"
   ]
  },
  {
   "cell_type": "code",
   "execution_count": 11,
   "metadata": {},
   "outputs": [],
   "source": [
    "legal_moves = player_helper.legal_moves(observation)"
   ]
  },
  {
   "cell_type": "code",
   "execution_count": 12,
   "metadata": {},
   "outputs": [
    {
     "data": {
      "text/plain": [
       "array([False, False, False, False, False, False, False, False, False,\n",
       "       False, False, False, False, False, False, False, False, False,\n",
       "       False, False, False, False, False, False, False, False,  True,\n",
       "       False, False,  True,  True, False,  True, False, False,  True,\n",
       "       False, False,  True, False, False,  True, False, False, False,\n",
       "       False, False, False, False, False, False, False, False, False,\n",
       "       False,  True, False,  True,  True, False, False,  True, False,\n",
       "       False, False, False, False, False,  True,  True, False, False,\n",
       "        True, False,  True,  True, False,  True,  True,  True, False,\n",
       "        True, False, False, False, False, False, False, False, False,\n",
       "        True,  True, False, False,  True, False,  True,  True, False,\n",
       "        True,  True,  True, False,  True, False, False, False, False,\n",
       "       False, False, False, False, False, False,  True,  True,  True,\n",
       "        True,  True,  True, False, False, False, False, False, False,\n",
       "       False, False, False, False, False, False])"
      ]
     },
     "execution_count": 12,
     "metadata": {},
     "output_type": "execute_result"
    }
   ],
   "source": [
    "legal_moves"
   ]
  },
  {
   "cell_type": "code",
   "execution_count": 13,
   "metadata": {},
   "outputs": [],
   "source": [
    "model= BranchingQNetwork(105, 7, 132, 128, \"eps\")"
   ]
  },
  {
   "cell_type": "code",
   "execution_count": 14,
   "metadata": {},
   "outputs": [
    {
     "data": {
      "text/plain": [
       "BranchingQNetwork(\n",
       "  (model): Sequential(\n",
       "    (0): Linear(in_features=105, out_features=512, bias=True)\n",
       "    (1): ReLU()\n",
       "    (2): Linear(in_features=512, out_features=256, bias=True)\n",
       "    (3): ReLU()\n",
       "    (4): Linear(in_features=256, out_features=128, bias=True)\n",
       "    (5): ReLU()\n",
       "  )\n",
       "  (out): Linear(in_features=128, out_features=132, bias=True)\n",
       ")"
      ]
     },
     "execution_count": 14,
     "metadata": {},
     "output_type": "execute_result"
    }
   ],
   "source": [
    "model"
   ]
  },
  {
   "cell_type": "code",
   "execution_count": 15,
   "metadata": {},
   "outputs": [],
   "source": [
    "obs = torch.tensor(observation).float()"
   ]
  },
  {
   "cell_type": "code",
   "execution_count": 16,
   "metadata": {},
   "outputs": [],
   "source": [
    "preds = model(obs)"
   ]
  },
  {
   "cell_type": "code",
   "execution_count": 127,
   "metadata": {},
   "outputs": [],
   "source": [
    "legal = [i for i, x in enumerate(legal_moves) if x]"
   ]
  },
  {
   "cell_type": "code",
   "execution_count": 128,
   "metadata": {},
   "outputs": [
    {
     "data": {
      "text/plain": [
       "[26,\n",
       " 29,\n",
       " 30,\n",
       " 32,\n",
       " 35,\n",
       " 38,\n",
       " 41,\n",
       " 55,\n",
       " 57,\n",
       " 58,\n",
       " 61,\n",
       " 68,\n",
       " 69,\n",
       " 72,\n",
       " 74,\n",
       " 75,\n",
       " 77,\n",
       " 78,\n",
       " 79,\n",
       " 81,\n",
       " 90,\n",
       " 91,\n",
       " 94,\n",
       " 96,\n",
       " 97,\n",
       " 99,\n",
       " 100,\n",
       " 101,\n",
       " 103,\n",
       " 114,\n",
       " 115,\n",
       " 116,\n",
       " 117,\n",
       " 118,\n",
       " 119]"
      ]
     },
     "execution_count": 128,
     "metadata": {},
     "output_type": "execute_result"
    }
   ],
   "source": [
    "legal"
   ]
  },
  {
   "cell_type": "code",
   "execution_count": 19,
   "metadata": {},
   "outputs": [
    {
     "data": {
      "text/plain": [
       "tensor([ 0.7539,  2.1589, -0.4548,  0.2044,  1.6336,  0.3973, -3.4324, -1.2586,\n",
       "        -0.2446,  1.3898,  6.5970,  0.9921,  2.6295,  0.1013,  1.9477,  1.0572,\n",
       "        -2.1258, -2.5155, -1.0820, -2.6839,  0.3637, -0.0635, -2.8531, -3.8592,\n",
       "        -5.1137, -4.7280, -3.6250,  6.9713,  0.0910,  0.2531,  3.2860,  4.6918,\n",
       "         3.9574,  1.8980,  2.8215,  1.4723, -2.8976, -4.6101,  2.5463, -2.0740,\n",
       "         2.8114, -0.8338,  5.6938,  0.2623, -0.8113,  2.7417,  1.3199, -6.5692,\n",
       "         2.4388,  2.6458, -2.4127,  4.7794,  2.7811,  4.1658, -2.6666, -0.7878,\n",
       "        -3.8838,  0.6434,  0.9333, -1.7638, -0.7097, -1.2664,  3.9241, -1.6029,\n",
       "         1.3296,  0.0436,  1.9175,  1.3615, -5.7806,  3.4057, -1.1605, -4.2725,\n",
       "        -2.6051,  3.5573,  1.1878,  4.9655, -2.5979,  4.6477,  4.1446, -0.8245,\n",
       "         0.9166,  0.3600,  1.5055, -1.0515,  2.1722,  5.9279,  7.2527, -1.9157,\n",
       "         3.7786, 10.2110,  5.8694, -4.6711, -0.3526, -2.3502,  2.9701, -1.1664,\n",
       "         1.1294, -0.6310, -1.8825,  1.2451, -1.6302, -0.3674, -1.7555,  0.4117,\n",
       "         0.3047,  1.5834, -2.1057, -0.6703,  5.3622, -1.0940,  4.3554,  0.2928,\n",
       "         2.8905,  3.0804,  2.5364,  0.2867, -5.0402,  4.9207, -4.9212,  3.6582,\n",
       "        -0.5317, -3.4225, -1.4222,  2.6371,  1.0963, -1.0014, -1.3040, -0.5769,\n",
       "         2.9251,  4.1771,  3.3047, -0.1780], grad_fn=<AddBackward0>)"
      ]
     },
     "execution_count": 19,
     "metadata": {},
     "output_type": "execute_result"
    }
   ],
   "source": [
    "preds"
   ]
  },
  {
   "cell_type": "code",
   "execution_count": 20,
   "metadata": {},
   "outputs": [],
   "source": [
    "legal_pred = preds.gather(0, torch.LongTensor(legal))"
   ]
  },
  {
   "cell_type": "code",
   "execution_count": 21,
   "metadata": {},
   "outputs": [
    {
     "data": {
      "text/plain": [
       "tensor(-4.9212, grad_fn=<SelectBackward>)"
      ]
     },
     "execution_count": 21,
     "metadata": {},
     "output_type": "execute_result"
    }
   ],
   "source": [
    "preds[118]"
   ]
  },
  {
   "cell_type": "code",
   "execution_count": 22,
   "metadata": {},
   "outputs": [
    {
     "data": {
      "text/plain": [
       "tensor([-3.6250,  0.2531,  3.2860,  3.9574,  1.4723,  2.5463, -0.8338, -0.7878,\n",
       "         0.6434,  0.9333, -1.2664, -5.7806,  3.4057, -2.6051,  1.1878,  4.9655,\n",
       "         4.6477,  4.1446, -0.8245,  0.3600,  5.8694, -4.6711,  2.9701,  1.1294,\n",
       "        -0.6310,  1.2451, -1.6302, -0.3674,  0.4117,  2.5364,  0.2867, -5.0402,\n",
       "         4.9207, -4.9212,  3.6582], grad_fn=<GatherBackward>)"
      ]
     },
     "execution_count": 22,
     "metadata": {},
     "output_type": "execute_result"
    }
   ],
   "source": [
    "legal_pred"
   ]
  },
  {
   "cell_type": "code",
   "execution_count": 23,
   "metadata": {},
   "outputs": [],
   "source": [
    "act_q = legal_pred.sort(descending=True)"
   ]
  },
  {
   "cell_type": "code",
   "execution_count": 24,
   "metadata": {},
   "outputs": [
    {
     "data": {
      "text/plain": [
       "torch.return_types.sort(\n",
       "values=tensor([ 5.8694,  4.9655,  4.9207,  4.6477,  4.1446,  3.9574,  3.6582,  3.4057,\n",
       "         3.2860,  2.9701,  2.5463,  2.5364,  1.4723,  1.2451,  1.1878,  1.1294,\n",
       "         0.9333,  0.6434,  0.4117,  0.3600,  0.2867,  0.2531, -0.3674, -0.6310,\n",
       "        -0.7878, -0.8245, -0.8338, -1.2664, -1.6302, -2.6051, -3.6250, -4.6711,\n",
       "        -4.9212, -5.0402, -5.7806], grad_fn=<SortBackward>),\n",
       "indices=tensor([20, 15, 32, 16, 17,  3, 34, 12,  2, 22,  5, 29,  4, 25, 14, 23,  9,  8,\n",
       "        28, 19, 30,  1, 27, 24,  7, 18,  6, 10, 26, 13,  0, 21, 33, 31, 11]))"
      ]
     },
     "execution_count": 24,
     "metadata": {},
     "output_type": "execute_result"
    }
   ],
   "source": [
    "act_q"
   ]
  },
  {
   "cell_type": "code",
   "execution_count": 25,
   "metadata": {},
   "outputs": [],
   "source": [
    "chosen_q = act_q.values[:7]\n",
    "chosen_q_idx = act_q.indices[:7]"
   ]
  },
  {
   "cell_type": "code",
   "execution_count": 26,
   "metadata": {},
   "outputs": [
    {
     "data": {
      "text/plain": [
       "tensor([5.8694, 4.9655, 4.9207, 4.6477, 4.1446, 3.9574, 3.6582],\n",
       "       grad_fn=<SliceBackward>)"
      ]
     },
     "execution_count": 26,
     "metadata": {},
     "output_type": "execute_result"
    }
   ],
   "source": [
    "chosen_q"
   ]
  },
  {
   "cell_type": "code",
   "execution_count": 27,
   "metadata": {},
   "outputs": [
    {
     "data": {
      "text/plain": [
       "tensor([20, 15, 32, 16, 17,  3, 34])"
      ]
     },
     "execution_count": 27,
     "metadata": {},
     "output_type": "execute_result"
    }
   ],
   "source": [
    "chosen_q_idx"
   ]
  },
  {
   "cell_type": "code",
   "execution_count": 28,
   "metadata": {},
   "outputs": [],
   "source": [
    "legal = torch.LongTensor(legal)"
   ]
  },
  {
   "cell_type": "code",
   "execution_count": 29,
   "metadata": {},
   "outputs": [
    {
     "data": {
      "text/plain": [
       "tensor([ 26,  29,  30,  32,  35,  38,  41,  55,  57,  58,  61,  68,  69,  72,\n",
       "         74,  75,  77,  78,  79,  81,  90,  91,  94,  96,  97,  99, 100, 101,\n",
       "        103, 114, 115, 116, 117, 118, 119])"
      ]
     },
     "execution_count": 29,
     "metadata": {},
     "output_type": "execute_result"
    }
   ],
   "source": [
    "legal"
   ]
  },
  {
   "cell_type": "code",
   "execution_count": 30,
   "metadata": {},
   "outputs": [
    {
     "data": {
      "text/plain": [
       "tensor([ 90,  75, 117,  77,  78,  32, 119])"
      ]
     },
     "execution_count": 30,
     "metadata": {},
     "output_type": "execute_result"
    }
   ],
   "source": [
    "legal.gather(0, chosen_q_idx)"
   ]
  },
  {
   "cell_type": "code",
   "execution_count": 31,
   "metadata": {},
   "outputs": [
    {
     "data": {
      "text/plain": [
       "<torch.autograd.anomaly_mode.set_detect_anomaly at 0x1344f2ec820>"
      ]
     },
     "execution_count": 31,
     "metadata": {},
     "output_type": "execute_result"
    }
   ],
   "source": [
    "torch.cuda.init()\n",
    "device = torch.device(\n",
    "    \"cuda:0\" if torch.cuda.is_available() else \"cpu\")\n",
    "torch.autograd.set_detect_anomaly(True)"
   ]
  },
  {
   "cell_type": "code",
   "execution_count": 36,
   "metadata": {},
   "outputs": [
    {
     "ename": "ValueError",
     "evalue": "setting an array element with a sequence.",
     "output_type": "error",
     "traceback": [
      "\u001b[1;31m---------------------------------------------------------------------------\u001b[0m",
      "\u001b[1;31mTypeError\u001b[0m                                 Traceback (most recent call last)",
      "\u001b[1;31mTypeError\u001b[0m: float() argument must be a string or a number, not 'list'",
      "\nThe above exception was the direct cause of the following exception:\n",
      "\u001b[1;31mValueError\u001b[0m                                Traceback (most recent call last)",
      "\u001b[1;32m<ipython-input-36-059f3e913eff>\u001b[0m in \u001b[0;36m<module>\u001b[1;34m\u001b[0m\n\u001b[1;32m----> 1\u001b[1;33m \u001b[0mplayer_helper\u001b[0m\u001b[1;33m.\u001b[0m\u001b[0mget_action_choices\u001b[0m\u001b[1;33m(\u001b[0m\u001b[1;36m132\u001b[0m\u001b[1;33m)\u001b[0m\u001b[1;33m\u001b[0m\u001b[1;33m\u001b[0m\u001b[0m\n\u001b[0m",
      "\u001b[1;32mD:\\everglades-ai-wargame\\agents\\bd3qn\\player.py\u001b[0m in \u001b[0;36mget_action_choices\u001b[1;34m(self, shape)\u001b[0m\n\u001b[0;32m     50\u001b[0m                 \u001b[0mgroup_id\u001b[0m \u001b[1;33m+=\u001b[0m \u001b[1;36m1\u001b[0m\u001b[1;33m\u001b[0m\u001b[1;33m\u001b[0m\u001b[0m\n\u001b[0;32m     51\u001b[0m                 \u001b[0mnode_id\u001b[0m \u001b[1;33m=\u001b[0m \u001b[1;36m1\u001b[0m\u001b[1;33m\u001b[0m\u001b[1;33m\u001b[0m\u001b[0m\n\u001b[1;32m---> 52\u001b[1;33m             \u001b[0maction_choices\u001b[0m\u001b[1;33m[\u001b[0m\u001b[0mi\u001b[0m\u001b[1;33m]\u001b[0m \u001b[1;33m=\u001b[0m \u001b[1;33m[\u001b[0m\u001b[0mgroup_id\u001b[0m\u001b[1;33m,\u001b[0m \u001b[0mnode_id\u001b[0m\u001b[1;33m]\u001b[0m\u001b[1;33m\u001b[0m\u001b[1;33m\u001b[0m\u001b[0m\n\u001b[0m\u001b[0;32m     53\u001b[0m             \u001b[0mnode_id\u001b[0m \u001b[1;33m+=\u001b[0m \u001b[1;36m1\u001b[0m\u001b[1;33m\u001b[0m\u001b[1;33m\u001b[0m\u001b[0m\n\u001b[0;32m     54\u001b[0m         \u001b[1;32mreturn\u001b[0m \u001b[0maction_choices\u001b[0m\u001b[1;33m\u001b[0m\u001b[1;33m\u001b[0m\u001b[0m\n",
      "\u001b[1;31mValueError\u001b[0m: setting an array element with a sequence."
     ]
    }
   ],
   "source": [
    "player_helper.get_action_choices(132)"
   ]
  },
  {
   "cell_type": "code",
   "execution_count": 140,
   "metadata": {},
   "outputs": [
    {
     "data": {
      "text/plain": [
       "[(array([1, 1, 3], dtype=int64), array([0, 1, 0], dtype=int64)),\n",
       " (array([1, 3, 3], dtype=int64), array([0, 0, 1], dtype=int64))]"
      ]
     },
     "execution_count": 140,
     "metadata": {},
     "output_type": "execute_result"
    }
   ],
   "source": [
    "l = np.array([[2,5],[3,7],[1,5],[3,12]])\n",
    "k = np.array([[3,7],[3,12]])\n",
    "a = []\n",
    "\n",
    "for i in k:\n",
    "    a.append(np.where(l == i))\n",
    "a"
   ]
  },
  {
   "cell_type": "code",
   "execution_count": 41,
   "metadata": {},
   "outputs": [],
   "source": [
    "from utils import build_action_table"
   ]
  },
  {
   "cell_type": "code",
   "execution_count": 53,
   "metadata": {},
   "outputs": [],
   "source": [
    "actions = build_action_table()"
   ]
  },
  {
   "cell_type": "code",
   "execution_count": 54,
   "metadata": {},
   "outputs": [
    {
     "data": {
      "text/plain": [
       "array([[ 0.,  1.],\n",
       "       [ 0.,  2.],\n",
       "       [ 0.,  3.],\n",
       "       [ 0.,  4.],\n",
       "       [ 0.,  5.],\n",
       "       [ 0.,  6.],\n",
       "       [ 0.,  7.],\n",
       "       [ 0.,  8.],\n",
       "       [ 0.,  9.],\n",
       "       [ 0., 10.],\n",
       "       [ 0., 11.],\n",
       "       [ 1.,  1.],\n",
       "       [ 1.,  2.],\n",
       "       [ 1.,  3.],\n",
       "       [ 1.,  4.],\n",
       "       [ 1.,  5.],\n",
       "       [ 1.,  6.],\n",
       "       [ 1.,  7.],\n",
       "       [ 1.,  8.],\n",
       "       [ 1.,  9.],\n",
       "       [ 1., 10.],\n",
       "       [ 1., 11.],\n",
       "       [ 2.,  1.],\n",
       "       [ 2.,  2.],\n",
       "       [ 2.,  3.],\n",
       "       [ 2.,  4.],\n",
       "       [ 2.,  5.],\n",
       "       [ 2.,  6.],\n",
       "       [ 2.,  7.],\n",
       "       [ 2.,  8.],\n",
       "       [ 2.,  9.],\n",
       "       [ 2., 10.],\n",
       "       [ 2., 11.],\n",
       "       [ 3.,  1.],\n",
       "       [ 3.,  2.],\n",
       "       [ 3.,  3.],\n",
       "       [ 3.,  4.],\n",
       "       [ 3.,  5.],\n",
       "       [ 3.,  6.],\n",
       "       [ 3.,  7.],\n",
       "       [ 3.,  8.],\n",
       "       [ 3.,  9.],\n",
       "       [ 3., 10.],\n",
       "       [ 3., 11.],\n",
       "       [ 4.,  1.],\n",
       "       [ 4.,  2.],\n",
       "       [ 4.,  3.],\n",
       "       [ 4.,  4.],\n",
       "       [ 4.,  5.],\n",
       "       [ 4.,  6.],\n",
       "       [ 4.,  7.],\n",
       "       [ 4.,  8.],\n",
       "       [ 4.,  9.],\n",
       "       [ 4., 10.],\n",
       "       [ 4., 11.],\n",
       "       [ 5.,  1.],\n",
       "       [ 5.,  2.],\n",
       "       [ 5.,  3.],\n",
       "       [ 5.,  4.],\n",
       "       [ 5.,  5.],\n",
       "       [ 5.,  6.],\n",
       "       [ 5.,  7.],\n",
       "       [ 5.,  8.],\n",
       "       [ 5.,  9.],\n",
       "       [ 5., 10.],\n",
       "       [ 5., 11.],\n",
       "       [ 6.,  1.],\n",
       "       [ 6.,  2.],\n",
       "       [ 6.,  3.],\n",
       "       [ 6.,  4.],\n",
       "       [ 6.,  5.],\n",
       "       [ 6.,  6.],\n",
       "       [ 6.,  7.],\n",
       "       [ 6.,  8.],\n",
       "       [ 6.,  9.],\n",
       "       [ 6., 10.],\n",
       "       [ 6., 11.],\n",
       "       [ 7.,  1.],\n",
       "       [ 7.,  2.],\n",
       "       [ 7.,  3.],\n",
       "       [ 7.,  4.],\n",
       "       [ 7.,  5.],\n",
       "       [ 7.,  6.],\n",
       "       [ 7.,  7.],\n",
       "       [ 7.,  8.],\n",
       "       [ 7.,  9.],\n",
       "       [ 7., 10.],\n",
       "       [ 7., 11.],\n",
       "       [ 8.,  1.],\n",
       "       [ 8.,  2.],\n",
       "       [ 8.,  3.],\n",
       "       [ 8.,  4.],\n",
       "       [ 8.,  5.],\n",
       "       [ 8.,  6.],\n",
       "       [ 8.,  7.],\n",
       "       [ 8.,  8.],\n",
       "       [ 8.,  9.],\n",
       "       [ 8., 10.],\n",
       "       [ 8., 11.],\n",
       "       [ 9.,  1.],\n",
       "       [ 9.,  2.],\n",
       "       [ 9.,  3.],\n",
       "       [ 9.,  4.],\n",
       "       [ 9.,  5.],\n",
       "       [ 9.,  6.],\n",
       "       [ 9.,  7.],\n",
       "       [ 9.,  8.],\n",
       "       [ 9.,  9.],\n",
       "       [ 9., 10.],\n",
       "       [ 9., 11.],\n",
       "       [10.,  1.],\n",
       "       [10.,  2.],\n",
       "       [10.,  3.],\n",
       "       [10.,  4.],\n",
       "       [10.,  5.],\n",
       "       [10.,  6.],\n",
       "       [10.,  7.],\n",
       "       [10.,  8.],\n",
       "       [10.,  9.],\n",
       "       [10., 10.],\n",
       "       [10., 11.],\n",
       "       [11.,  1.],\n",
       "       [11.,  2.],\n",
       "       [11.,  3.],\n",
       "       [11.,  4.],\n",
       "       [11.,  5.],\n",
       "       [11.,  6.],\n",
       "       [11.,  7.],\n",
       "       [11.,  8.],\n",
       "       [11.,  9.],\n",
       "       [11., 10.],\n",
       "       [11., 11.]])"
      ]
     },
     "execution_count": 54,
     "metadata": {},
     "output_type": "execute_result"
    }
   ],
   "source": [
    "actions"
   ]
  },
  {
   "cell_type": "code",
   "execution_count": 55,
   "metadata": {},
   "outputs": [],
   "source": [
    "action_idx = legal.gather(0, chosen_q_idx)"
   ]
  },
  {
   "cell_type": "code",
   "execution_count": 60,
   "metadata": {},
   "outputs": [
    {
     "data": {
      "text/plain": [
       "array([ 90,  75, 117,  77,  78,  32, 119], dtype=int64)"
      ]
     },
     "execution_count": 60,
     "metadata": {},
     "output_type": "execute_result"
    }
   ],
   "source": [
    "action_idx.numpy()"
   ]
  },
  {
   "cell_type": "code",
   "execution_count": 64,
   "metadata": {},
   "outputs": [
    {
     "data": {
      "text/plain": [
       "array([[ 8.,  3.],\n",
       "       [ 6., 10.],\n",
       "       [10.,  8.],\n",
       "       [ 7.,  1.],\n",
       "       [ 7.,  2.],\n",
       "       [ 2., 11.],\n",
       "       [10., 10.]])"
      ]
     },
     "execution_count": 64,
     "metadata": {},
     "output_type": "execute_result"
    }
   ],
   "source": [
    "np.take(actions, action_idx, 0)"
   ]
  },
  {
   "cell_type": "code",
   "execution_count": 68,
   "metadata": {},
   "outputs": [
    {
     "data": {
      "text/plain": [
       "array([10., 10.])"
      ]
     },
     "execution_count": 68,
     "metadata": {},
     "output_type": "execute_result"
    }
   ],
   "source": [
    "actions[119]"
   ]
  },
  {
   "cell_type": "code",
   "execution_count": 63,
   "metadata": {},
   "outputs": [
    {
     "data": {
      "text/plain": [
       "array([ 6., 10.])"
      ]
     },
     "execution_count": 63,
     "metadata": {},
     "output_type": "execute_result"
    }
   ],
   "source": []
  },
  {
   "cell_type": "code",
   "execution_count": 82,
   "metadata": {},
   "outputs": [],
   "source": [
    "q = torch.rand(16, 132)"
   ]
  },
  {
   "cell_type": "code",
   "execution_count": 83,
   "metadata": {},
   "outputs": [
    {
     "data": {
      "text/plain": [
       "tensor([[0.2337, 0.2023, 0.6979,  ..., 0.9916, 0.7788, 0.1082],\n",
       "        [0.1911, 0.5513, 0.4918,  ..., 0.6103, 0.6163, 0.7330],\n",
       "        [0.1390, 0.3027, 0.9134,  ..., 0.3006, 0.0406, 0.7331],\n",
       "        ...,\n",
       "        [0.7446, 0.2522, 0.2925,  ..., 0.4003, 0.0278, 0.6248],\n",
       "        [0.4931, 0.7993, 0.7787,  ..., 0.5293, 0.7227, 0.3850],\n",
       "        [0.2986, 0.5375, 0.0621,  ..., 0.4885, 0.8534, 0.7899]])"
      ]
     },
     "execution_count": 83,
     "metadata": {},
     "output_type": "execute_result"
    }
   ],
   "source": [
    "q"
   ]
  },
  {
   "cell_type": "code",
   "execution_count": 87,
   "metadata": {},
   "outputs": [
    {
     "ename": "RuntimeError",
     "evalue": "\"check_uniform_bounds\" not implemented for 'Long'",
     "output_type": "error",
     "traceback": [
      "\u001b[1;31m---------------------------------------------------------------------------\u001b[0m",
      "\u001b[1;31mRuntimeError\u001b[0m                              Traceback (most recent call last)",
      "\u001b[1;32m<ipython-input-87-f26b57c8b81f>\u001b[0m in \u001b[0;36m<module>\u001b[1;34m\u001b[0m\n\u001b[1;32m----> 1\u001b[1;33m \u001b[0mtorch\u001b[0m\u001b[1;33m.\u001b[0m\u001b[0mrand\u001b[0m\u001b[1;33m(\u001b[0m\u001b[1;36m16\u001b[0m\u001b[1;33m,\u001b[0m\u001b[1;36m7\u001b[0m\u001b[1;33m,\u001b[0m\u001b[1;36m2\u001b[0m\u001b[1;33m,\u001b[0m \u001b[0mdtype\u001b[0m\u001b[1;33m=\u001b[0m\u001b[0mtorch\u001b[0m\u001b[1;33m.\u001b[0m\u001b[0mlong\u001b[0m\u001b[1;33m)\u001b[0m\u001b[1;33m\u001b[0m\u001b[1;33m\u001b[0m\u001b[0m\n\u001b[0m",
      "\u001b[1;31mRuntimeError\u001b[0m: \"check_uniform_bounds\" not implemented for 'Long'"
     ]
    }
   ],
   "source": [
    "torch.rand(16,7,2, dtype=torch.long)"
   ]
  },
  {
   "cell_type": "code",
   "execution_count": 99,
   "metadata": {},
   "outputs": [],
   "source": [
    "g = torch.tensor([[7,5,1,3,4,6,4], [4,5,4,3,2,1,2]])"
   ]
  },
  {
   "cell_type": "code",
   "execution_count": 100,
   "metadata": {},
   "outputs": [],
   "source": [
    "t = torch.rand(2,132)"
   ]
  },
  {
   "cell_type": "code",
   "execution_count": 101,
   "metadata": {},
   "outputs": [
    {
     "data": {
      "text/plain": [
       "tensor([[0.8769, 0.7713, 0.5623, 0.6054, 0.9913, 0.3439, 0.8936, 0.4777, 0.4417,\n",
       "         0.6755, 0.0067, 0.8930, 0.3669, 0.8032, 0.5370, 0.5559, 0.4430, 0.3516,\n",
       "         0.1542, 0.4206, 0.5969, 0.8665, 0.3750, 0.2019, 0.5501, 0.3274, 0.8157,\n",
       "         0.0607, 0.5639, 0.9297, 0.4288, 0.9111, 0.0692, 0.1258, 0.1742, 0.2223,\n",
       "         0.7769, 0.9685, 0.9321, 0.1690, 0.1611, 0.3566, 0.2821, 0.3076, 0.2235,\n",
       "         0.9809, 0.1576, 0.6205, 0.0492, 0.5403, 0.8366, 0.9951, 0.5693, 0.9298,\n",
       "         0.9073, 0.8854, 0.8172, 0.5441, 0.2569, 0.0388, 0.4351, 0.4532, 0.4570,\n",
       "         0.1793, 0.3458, 0.5107, 0.0199, 0.8273, 0.7753, 0.7950, 0.8339, 0.8221,\n",
       "         0.1465, 0.8349, 0.1712, 0.5736, 0.1137, 0.1839, 0.2120, 0.6139, 0.9545,\n",
       "         0.3113, 0.7454, 0.5375, 0.2901, 0.3855, 0.9291, 0.7756, 0.9309, 0.3437,\n",
       "         0.3393, 0.7878, 0.9354, 0.4164, 0.0565, 0.0440, 0.8819, 0.0226, 0.0838,\n",
       "         0.9989, 0.0185, 0.8449, 0.4004, 0.7864, 0.8366, 0.5975, 0.1008, 0.3554,\n",
       "         0.4819, 0.9273, 0.7749, 0.5884, 0.0937, 0.1036, 0.0191, 0.2674, 0.2895,\n",
       "         0.9304, 0.2580, 0.9058, 0.6266, 0.0690, 0.4965, 0.4638, 0.6975, 0.2379,\n",
       "         0.8201, 0.3553, 0.9557, 0.2280, 0.7130, 0.3754],\n",
       "        [0.8588, 0.1285, 0.5583, 0.6486, 0.1804, 0.0768, 0.2342, 0.1635, 0.5574,\n",
       "         0.1287, 0.7072, 0.6887, 0.3585, 0.2037, 0.5841, 0.0103, 0.8367, 0.5088,\n",
       "         0.9871, 0.8287, 0.0149, 0.2411, 0.6032, 0.2869, 0.1703, 0.2781, 0.4691,\n",
       "         0.9469, 0.9840, 0.5037, 0.2630, 0.6507, 0.6044, 0.0283, 0.0727, 0.5001,\n",
       "         0.2914, 0.9655, 0.6867, 0.3224, 0.4846, 0.3307, 0.0503, 0.8684, 0.0615,\n",
       "         0.8535, 0.8911, 0.9385, 0.9314, 0.0659, 0.2498, 0.6825, 0.0318, 0.2335,\n",
       "         0.3140, 0.3970, 0.4318, 0.7183, 0.1083, 0.2424, 0.2008, 0.4970, 0.5746,\n",
       "         0.5147, 0.0079, 0.7858, 0.0146, 0.2261, 0.1779, 0.8210, 0.0107, 0.8528,\n",
       "         0.1225, 0.4877, 0.5659, 0.8303, 0.6826, 0.1013, 0.3184, 0.0919, 0.6177,\n",
       "         0.5497, 0.7052, 0.8406, 0.9995, 0.0434, 0.3171, 0.7852, 0.7886, 0.6683,\n",
       "         0.0316, 0.9864, 0.2433, 0.0136, 0.9683, 0.7102, 0.6127, 0.9046, 0.7935,\n",
       "         0.8155, 0.0339, 0.6063, 0.0586, 0.7073, 0.5620, 0.6163, 0.8195, 0.4386,\n",
       "         0.6608, 0.5541, 0.5315, 0.6105, 0.0687, 0.8714, 0.4084, 0.9070, 0.1755,\n",
       "         0.0835, 0.1974, 0.7542, 0.0598, 0.5276, 0.2977, 0.0821, 0.0497, 0.4629,\n",
       "         0.1231, 0.0192, 0.0815, 0.5205, 0.7358, 0.2163]])"
      ]
     },
     "execution_count": 101,
     "metadata": {},
     "output_type": "execute_result"
    }
   ],
   "source": [
    "t"
   ]
  },
  {
   "cell_type": "code",
   "execution_count": 104,
   "metadata": {},
   "outputs": [
    {
     "data": {
      "text/plain": [
       "tensor([[0.4777, 0.3439, 0.7713, 0.6054, 0.9913, 0.8936, 0.9913],\n",
       "        [0.1804, 0.0768, 0.1804, 0.6486, 0.5583, 0.1285, 0.5583]])"
      ]
     },
     "execution_count": 104,
     "metadata": {},
     "output_type": "execute_result"
    }
   ],
   "source": [
    "t.gather(1, g)"
   ]
  },
  {
   "cell_type": "code",
   "execution_count": 105,
   "metadata": {},
   "outputs": [
    {
     "data": {
      "text/plain": [
       "tensor([[0.8769, 0.7713, 0.5623, 0.6054, 0.9913, 0.3439, 0.8936, 0.4777, 0.4417,\n",
       "         0.6755, 0.0067, 0.8930, 0.3669, 0.8032, 0.5370, 0.5559, 0.4430, 0.3516,\n",
       "         0.1542, 0.4206, 0.5969, 0.8665, 0.3750, 0.2019, 0.5501, 0.3274, 0.8157,\n",
       "         0.0607, 0.5639, 0.9297, 0.4288, 0.9111, 0.0692, 0.1258, 0.1742, 0.2223,\n",
       "         0.7769, 0.9685, 0.9321, 0.1690, 0.1611, 0.3566, 0.2821, 0.3076, 0.2235,\n",
       "         0.9809, 0.1576, 0.6205, 0.0492, 0.5403, 0.8366, 0.9951, 0.5693, 0.9298,\n",
       "         0.9073, 0.8854, 0.8172, 0.5441, 0.2569, 0.0388, 0.4351, 0.4532, 0.4570,\n",
       "         0.1793, 0.3458, 0.5107, 0.0199, 0.8273, 0.7753, 0.7950, 0.8339, 0.8221,\n",
       "         0.1465, 0.8349, 0.1712, 0.5736, 0.1137, 0.1839, 0.2120, 0.6139, 0.9545,\n",
       "         0.3113, 0.7454, 0.5375, 0.2901, 0.3855, 0.9291, 0.7756, 0.9309, 0.3437,\n",
       "         0.3393, 0.7878, 0.9354, 0.4164, 0.0565, 0.0440, 0.8819, 0.0226, 0.0838,\n",
       "         0.9989, 0.0185, 0.8449, 0.4004, 0.7864, 0.8366, 0.5975, 0.1008, 0.3554,\n",
       "         0.4819, 0.9273, 0.7749, 0.5884, 0.0937, 0.1036, 0.0191, 0.2674, 0.2895,\n",
       "         0.9304, 0.2580, 0.9058, 0.6266, 0.0690, 0.4965, 0.4638, 0.6975, 0.2379,\n",
       "         0.8201, 0.3553, 0.9557, 0.2280, 0.7130, 0.3754],\n",
       "        [0.8588, 0.1285, 0.5583, 0.6486, 0.1804, 0.0768, 0.2342, 0.1635, 0.5574,\n",
       "         0.1287, 0.7072, 0.6887, 0.3585, 0.2037, 0.5841, 0.0103, 0.8367, 0.5088,\n",
       "         0.9871, 0.8287, 0.0149, 0.2411, 0.6032, 0.2869, 0.1703, 0.2781, 0.4691,\n",
       "         0.9469, 0.9840, 0.5037, 0.2630, 0.6507, 0.6044, 0.0283, 0.0727, 0.5001,\n",
       "         0.2914, 0.9655, 0.6867, 0.3224, 0.4846, 0.3307, 0.0503, 0.8684, 0.0615,\n",
       "         0.8535, 0.8911, 0.9385, 0.9314, 0.0659, 0.2498, 0.6825, 0.0318, 0.2335,\n",
       "         0.3140, 0.3970, 0.4318, 0.7183, 0.1083, 0.2424, 0.2008, 0.4970, 0.5746,\n",
       "         0.5147, 0.0079, 0.7858, 0.0146, 0.2261, 0.1779, 0.8210, 0.0107, 0.8528,\n",
       "         0.1225, 0.4877, 0.5659, 0.8303, 0.6826, 0.1013, 0.3184, 0.0919, 0.6177,\n",
       "         0.5497, 0.7052, 0.8406, 0.9995, 0.0434, 0.3171, 0.7852, 0.7886, 0.6683,\n",
       "         0.0316, 0.9864, 0.2433, 0.0136, 0.9683, 0.7102, 0.6127, 0.9046, 0.7935,\n",
       "         0.8155, 0.0339, 0.6063, 0.0586, 0.7073, 0.5620, 0.6163, 0.8195, 0.4386,\n",
       "         0.6608, 0.5541, 0.5315, 0.6105, 0.0687, 0.8714, 0.4084, 0.9070, 0.1755,\n",
       "         0.0835, 0.1974, 0.7542, 0.0598, 0.5276, 0.2977, 0.0821, 0.0497, 0.4629,\n",
       "         0.1231, 0.0192, 0.0815, 0.5205, 0.7358, 0.2163]])"
      ]
     },
     "execution_count": 105,
     "metadata": {},
     "output_type": "execute_result"
    }
   ],
   "source": [
    "t"
   ]
  },
  {
   "cell_type": "code",
   "execution_count": 114,
   "metadata": {},
   "outputs": [],
   "source": [
    "y = t.sort(1, descending=True)"
   ]
  },
  {
   "cell_type": "code",
   "execution_count": 115,
   "metadata": {},
   "outputs": [
    {
     "data": {
      "text/plain": [
       "[tensor([0.9989, 0.9951, 0.9913, 0.9809, 0.9685, 0.9557, 0.9545]),\n",
       " tensor([0.9995, 0.9871, 0.9864, 0.9840, 0.9683, 0.9655, 0.9469])]"
      ]
     },
     "execution_count": 115,
     "metadata": {},
     "output_type": "execute_result"
    }
   ],
   "source": [
    "nextq = []\n",
    "for x in y.values:\n",
    "    nextq.append(x[:7])\n",
    "nextq"
   ]
  },
  {
   "cell_type": "code",
   "execution_count": 116,
   "metadata": {},
   "outputs": [
    {
     "data": {
      "text/plain": [
       "tensor([[0.9989, 0.9951, 0.9913, 0.9809, 0.9685, 0.9557, 0.9545],\n",
       "        [0.9995, 0.9871, 0.9864, 0.9840, 0.9683, 0.9655, 0.9469]])"
      ]
     },
     "execution_count": 116,
     "metadata": {},
     "output_type": "execute_result"
    }
   ],
   "source": [
    "torch.stack(nextq)"
   ]
  },
  {
   "cell_type": "code",
   "execution_count": 119,
   "metadata": {},
   "outputs": [],
   "source": [
    "legal = legal.numpy()"
   ]
  },
  {
   "cell_type": "code",
   "execution_count": 120,
   "metadata": {},
   "outputs": [],
   "source": [
    "import random"
   ]
  },
  {
   "cell_type": "code",
   "execution_count": 129,
   "metadata": {},
   "outputs": [],
   "source": [
    "legal = random.sample(legal, 7)"
   ]
  },
  {
   "cell_type": "code",
   "execution_count": 130,
   "metadata": {},
   "outputs": [
    {
     "data": {
      "text/plain": [
       "[32, 79, 30, 90, 99, 117, 116]"
      ]
     },
     "execution_count": 130,
     "metadata": {},
     "output_type": "execute_result"
    }
   ],
   "source": [
    "legal"
   ]
  },
  {
   "cell_type": "code",
   "execution_count": 131,
   "metadata": {},
   "outputs": [
    {
     "data": {
      "text/plain": [
       "array([[ 0.,  1.],\n",
       "       [ 0.,  2.],\n",
       "       [ 0.,  3.],\n",
       "       [ 0.,  4.],\n",
       "       [ 0.,  5.],\n",
       "       [ 0.,  6.],\n",
       "       [ 0.,  7.],\n",
       "       [ 0.,  8.],\n",
       "       [ 0.,  9.],\n",
       "       [ 0., 10.],\n",
       "       [ 0., 11.],\n",
       "       [ 1.,  1.],\n",
       "       [ 1.,  2.],\n",
       "       [ 1.,  3.],\n",
       "       [ 1.,  4.],\n",
       "       [ 1.,  5.],\n",
       "       [ 1.,  6.],\n",
       "       [ 1.,  7.],\n",
       "       [ 1.,  8.],\n",
       "       [ 1.,  9.],\n",
       "       [ 1., 10.],\n",
       "       [ 1., 11.],\n",
       "       [ 2.,  1.],\n",
       "       [ 2.,  2.],\n",
       "       [ 2.,  3.],\n",
       "       [ 2.,  4.],\n",
       "       [ 2.,  5.],\n",
       "       [ 2.,  6.],\n",
       "       [ 2.,  7.],\n",
       "       [ 2.,  8.],\n",
       "       [ 2.,  9.],\n",
       "       [ 2., 10.],\n",
       "       [ 2., 11.],\n",
       "       [ 3.,  1.],\n",
       "       [ 3.,  2.],\n",
       "       [ 3.,  3.],\n",
       "       [ 3.,  4.],\n",
       "       [ 3.,  5.],\n",
       "       [ 3.,  6.],\n",
       "       [ 3.,  7.],\n",
       "       [ 3.,  8.],\n",
       "       [ 3.,  9.],\n",
       "       [ 3., 10.],\n",
       "       [ 3., 11.],\n",
       "       [ 4.,  1.],\n",
       "       [ 4.,  2.],\n",
       "       [ 4.,  3.],\n",
       "       [ 4.,  4.],\n",
       "       [ 4.,  5.],\n",
       "       [ 4.,  6.],\n",
       "       [ 4.,  7.],\n",
       "       [ 4.,  8.],\n",
       "       [ 4.,  9.],\n",
       "       [ 4., 10.],\n",
       "       [ 4., 11.],\n",
       "       [ 5.,  1.],\n",
       "       [ 5.,  2.],\n",
       "       [ 5.,  3.],\n",
       "       [ 5.,  4.],\n",
       "       [ 5.,  5.],\n",
       "       [ 5.,  6.],\n",
       "       [ 5.,  7.],\n",
       "       [ 5.,  8.],\n",
       "       [ 5.,  9.],\n",
       "       [ 5., 10.],\n",
       "       [ 5., 11.],\n",
       "       [ 6.,  1.],\n",
       "       [ 6.,  2.],\n",
       "       [ 6.,  3.],\n",
       "       [ 6.,  4.],\n",
       "       [ 6.,  5.],\n",
       "       [ 6.,  6.],\n",
       "       [ 6.,  7.],\n",
       "       [ 6.,  8.],\n",
       "       [ 6.,  9.],\n",
       "       [ 6., 10.],\n",
       "       [ 6., 11.],\n",
       "       [ 7.,  1.],\n",
       "       [ 7.,  2.],\n",
       "       [ 7.,  3.],\n",
       "       [ 7.,  4.],\n",
       "       [ 7.,  5.],\n",
       "       [ 7.,  6.],\n",
       "       [ 7.,  7.],\n",
       "       [ 7.,  8.],\n",
       "       [ 7.,  9.],\n",
       "       [ 7., 10.],\n",
       "       [ 7., 11.],\n",
       "       [ 8.,  1.],\n",
       "       [ 8.,  2.],\n",
       "       [ 8.,  3.],\n",
       "       [ 8.,  4.],\n",
       "       [ 8.,  5.],\n",
       "       [ 8.,  6.],\n",
       "       [ 8.,  7.],\n",
       "       [ 8.,  8.],\n",
       "       [ 8.,  9.],\n",
       "       [ 8., 10.],\n",
       "       [ 8., 11.],\n",
       "       [ 9.,  1.],\n",
       "       [ 9.,  2.],\n",
       "       [ 9.,  3.],\n",
       "       [ 9.,  4.],\n",
       "       [ 9.,  5.],\n",
       "       [ 9.,  6.],\n",
       "       [ 9.,  7.],\n",
       "       [ 9.,  8.],\n",
       "       [ 9.,  9.],\n",
       "       [ 9., 10.],\n",
       "       [ 9., 11.],\n",
       "       [10.,  1.],\n",
       "       [10.,  2.],\n",
       "       [10.,  3.],\n",
       "       [10.,  4.],\n",
       "       [10.,  5.],\n",
       "       [10.,  6.],\n",
       "       [10.,  7.],\n",
       "       [10.,  8.],\n",
       "       [10.,  9.],\n",
       "       [10., 10.],\n",
       "       [10., 11.],\n",
       "       [11.,  1.],\n",
       "       [11.,  2.],\n",
       "       [11.,  3.],\n",
       "       [11.,  4.],\n",
       "       [11.,  5.],\n",
       "       [11.,  6.],\n",
       "       [11.,  7.],\n",
       "       [11.,  8.],\n",
       "       [11.,  9.],\n",
       "       [11., 10.],\n",
       "       [11., 11.]])"
      ]
     },
     "execution_count": 131,
     "metadata": {},
     "output_type": "execute_result"
    }
   ],
   "source": [
    "actions"
   ]
  },
  {
   "cell_type": "code",
   "execution_count": 133,
   "metadata": {},
   "outputs": [
    {
     "data": {
      "text/plain": [
       "array([[ 2., 11.],\n",
       "       [ 7.,  3.],\n",
       "       [ 2.,  9.],\n",
       "       [ 8.,  3.],\n",
       "       [ 9.,  1.],\n",
       "       [10.,  8.],\n",
       "       [10.,  7.]])"
      ]
     },
     "execution_count": 133,
     "metadata": {},
     "output_type": "execute_result"
    }
   ],
   "source": [
    "np.take(actions, legal, 0)"
   ]
  },
  {
   "cell_type": "code",
   "execution_count": 134,
   "metadata": {},
   "outputs": [
    {
     "data": {
      "text/plain": [
       "array([ 2., 11.])"
      ]
     },
     "execution_count": 134,
     "metadata": {},
     "output_type": "execute_result"
    }
   ],
   "source": [
    "actions[32]"
   ]
  },
  {
   "cell_type": "code",
   "execution_count": 135,
   "metadata": {},
   "outputs": [],
   "source": [
    "predict = torch.tensor([ 0.0000,  2.2634,  0.0000,  0.0000, 14.5552,  0.0000,  4.0787, 22.1282,\n",
    "         8.6315,  0.0000,  0.0000,  2.2967,  0.0000, 11.2417,  0.0000,  0.0000,\n",
    "         2.6133,  0.0000,  0.0000,  0.0000,  0.0000, 10.4586,  5.7030,  0.0000,\n",
    "         0.0000, 12.8066,  0.0000,  0.0000,  0.0000,  3.9369,  0.0000,  2.3094,\n",
    "         0.0000,  2.2453,  0.0000, 10.3566,  0.0000,  0.0000,  0.0000,  8.4870,\n",
    "         0.0000,  0.0000,  1.9676,  7.8532,  4.9158, 12.1242,  0.0000,  0.0000,\n",
    "         5.5951,  0.0000, 11.2550,  0.0000, 18.0321,  0.0000,  0.0000,  0.0000,\n",
    "         7.2463,  0.0000,  0.0000,  0.1663,  0.0000,  0.0000,  0.0000,  4.2565,\n",
    "         0.0000,  8.6758,  7.2351,  0.0000, 13.7532,  0.5862,  0.0000, 10.1941,\n",
    "         0.0000,  8.6476,  7.2139,  2.8377,  0.0000,  0.0000,  3.3754,  0.0000,\n",
    "         1.9132,  0.5925,  5.3133,  0.0000,  4.2074,  0.0000,  3.5816,  0.0000,\n",
    "         1.8329, 18.0533,  4.7783,  0.0000,  8.2180,  8.0269,  0.0000,  0.0000,\n",
    "         0.0000,  0.0000,  0.0000,  0.0000,  0.0000,  0.0000,  0.0000,  0.0000,\n",
    "         0.0000,  2.1318,  7.4333,  0.0000,  5.6233, 10.2923,  7.0338,  0.0000,\n",
    "         0.0000,  0.0000,  0.0000,  0.0000,  0.0000,  0.0000,  7.2451,  0.3393,\n",
    "         0.0000, 14.0444,  0.2286,  0.0000,  0.0000,  0.0000,  4.0939,  0.0000],\n",
    "       device='cuda:0')"
   ]
  },
  {
   "cell_type": "code",
   "execution_count": 136,
   "metadata": {},
   "outputs": [],
   "source": [
    "legal_id = torch.tensor([  2,   5,   8,  35,  36,  39,  41,  42,  55,  56,  57,  59,  70,  71,\n",
    "         72,  73,  74,  75,  81,  84,  85,  87,  88,  90,  91,  94, 123, 126,\n",
    "        129], device='cuda:0')"
   ]
  },
  {
   "cell_type": "code",
   "execution_count": 137,
   "metadata": {},
   "outputs": [
    {
     "ename": "RuntimeError",
     "evalue": "CUDA error: device-side assert triggered",
     "output_type": "error",
     "traceback": [
      "\u001b[1;31m---------------------------------------------------------------------------\u001b[0m",
      "\u001b[1;31mRuntimeError\u001b[0m                              Traceback (most recent call last)",
      "\u001b[1;32mD:\\ProgramData\\Anaconda3\\envs\\everglades\\lib\\site-packages\\IPython\\core\\formatters.py\u001b[0m in \u001b[0;36m__call__\u001b[1;34m(self, obj)\u001b[0m\n\u001b[0;32m    700\u001b[0m                 \u001b[0mtype_pprinters\u001b[0m\u001b[1;33m=\u001b[0m\u001b[0mself\u001b[0m\u001b[1;33m.\u001b[0m\u001b[0mtype_printers\u001b[0m\u001b[1;33m,\u001b[0m\u001b[1;33m\u001b[0m\u001b[1;33m\u001b[0m\u001b[0m\n\u001b[0;32m    701\u001b[0m                 deferred_pprinters=self.deferred_printers)\n\u001b[1;32m--> 702\u001b[1;33m             \u001b[0mprinter\u001b[0m\u001b[1;33m.\u001b[0m\u001b[0mpretty\u001b[0m\u001b[1;33m(\u001b[0m\u001b[0mobj\u001b[0m\u001b[1;33m)\u001b[0m\u001b[1;33m\u001b[0m\u001b[1;33m\u001b[0m\u001b[0m\n\u001b[0m\u001b[0;32m    703\u001b[0m             \u001b[0mprinter\u001b[0m\u001b[1;33m.\u001b[0m\u001b[0mflush\u001b[0m\u001b[1;33m(\u001b[0m\u001b[1;33m)\u001b[0m\u001b[1;33m\u001b[0m\u001b[1;33m\u001b[0m\u001b[0m\n\u001b[0;32m    704\u001b[0m             \u001b[1;32mreturn\u001b[0m \u001b[0mstream\u001b[0m\u001b[1;33m.\u001b[0m\u001b[0mgetvalue\u001b[0m\u001b[1;33m(\u001b[0m\u001b[1;33m)\u001b[0m\u001b[1;33m\u001b[0m\u001b[1;33m\u001b[0m\u001b[0m\n",
      "\u001b[1;32mD:\\ProgramData\\Anaconda3\\envs\\everglades\\lib\\site-packages\\IPython\\lib\\pretty.py\u001b[0m in \u001b[0;36mpretty\u001b[1;34m(self, obj)\u001b[0m\n\u001b[0;32m    392\u001b[0m                         \u001b[1;32mif\u001b[0m \u001b[0mcls\u001b[0m \u001b[1;32mis\u001b[0m \u001b[1;32mnot\u001b[0m \u001b[0mobject\u001b[0m\u001b[0;31m \u001b[0m\u001b[0;31m\\\u001b[0m\u001b[1;33m\u001b[0m\u001b[1;33m\u001b[0m\u001b[0m\n\u001b[0;32m    393\u001b[0m                                 \u001b[1;32mand\u001b[0m \u001b[0mcallable\u001b[0m\u001b[1;33m(\u001b[0m\u001b[0mcls\u001b[0m\u001b[1;33m.\u001b[0m\u001b[0m__dict__\u001b[0m\u001b[1;33m.\u001b[0m\u001b[0mget\u001b[0m\u001b[1;33m(\u001b[0m\u001b[1;34m'__repr__'\u001b[0m\u001b[1;33m)\u001b[0m\u001b[1;33m)\u001b[0m\u001b[1;33m:\u001b[0m\u001b[1;33m\u001b[0m\u001b[1;33m\u001b[0m\u001b[0m\n\u001b[1;32m--> 394\u001b[1;33m                             \u001b[1;32mreturn\u001b[0m \u001b[0m_repr_pprint\u001b[0m\u001b[1;33m(\u001b[0m\u001b[0mobj\u001b[0m\u001b[1;33m,\u001b[0m \u001b[0mself\u001b[0m\u001b[1;33m,\u001b[0m \u001b[0mcycle\u001b[0m\u001b[1;33m)\u001b[0m\u001b[1;33m\u001b[0m\u001b[1;33m\u001b[0m\u001b[0m\n\u001b[0m\u001b[0;32m    395\u001b[0m \u001b[1;33m\u001b[0m\u001b[0m\n\u001b[0;32m    396\u001b[0m             \u001b[1;32mreturn\u001b[0m \u001b[0m_default_pprint\u001b[0m\u001b[1;33m(\u001b[0m\u001b[0mobj\u001b[0m\u001b[1;33m,\u001b[0m \u001b[0mself\u001b[0m\u001b[1;33m,\u001b[0m \u001b[0mcycle\u001b[0m\u001b[1;33m)\u001b[0m\u001b[1;33m\u001b[0m\u001b[1;33m\u001b[0m\u001b[0m\n",
      "\u001b[1;32mD:\\ProgramData\\Anaconda3\\envs\\everglades\\lib\\site-packages\\IPython\\lib\\pretty.py\u001b[0m in \u001b[0;36m_repr_pprint\u001b[1;34m(obj, p, cycle)\u001b[0m\n\u001b[0;32m    698\u001b[0m     \u001b[1;34m\"\"\"A pprint that just redirects to the normal repr function.\"\"\"\u001b[0m\u001b[1;33m\u001b[0m\u001b[1;33m\u001b[0m\u001b[0m\n\u001b[0;32m    699\u001b[0m     \u001b[1;31m# Find newlines and replace them with p.break_()\u001b[0m\u001b[1;33m\u001b[0m\u001b[1;33m\u001b[0m\u001b[1;33m\u001b[0m\u001b[0m\n\u001b[1;32m--> 700\u001b[1;33m     \u001b[0moutput\u001b[0m \u001b[1;33m=\u001b[0m \u001b[0mrepr\u001b[0m\u001b[1;33m(\u001b[0m\u001b[0mobj\u001b[0m\u001b[1;33m)\u001b[0m\u001b[1;33m\u001b[0m\u001b[1;33m\u001b[0m\u001b[0m\n\u001b[0m\u001b[0;32m    701\u001b[0m     \u001b[0mlines\u001b[0m \u001b[1;33m=\u001b[0m \u001b[0moutput\u001b[0m\u001b[1;33m.\u001b[0m\u001b[0msplitlines\u001b[0m\u001b[1;33m(\u001b[0m\u001b[1;33m)\u001b[0m\u001b[1;33m\u001b[0m\u001b[1;33m\u001b[0m\u001b[0m\n\u001b[0;32m    702\u001b[0m     \u001b[1;32mwith\u001b[0m \u001b[0mp\u001b[0m\u001b[1;33m.\u001b[0m\u001b[0mgroup\u001b[0m\u001b[1;33m(\u001b[0m\u001b[1;33m)\u001b[0m\u001b[1;33m:\u001b[0m\u001b[1;33m\u001b[0m\u001b[1;33m\u001b[0m\u001b[0m\n",
      "\u001b[1;32mD:\\ProgramData\\Anaconda3\\envs\\everglades\\lib\\site-packages\\torch\\tensor.py\u001b[0m in \u001b[0;36m__repr__\u001b[1;34m(self)\u001b[0m\n\u001b[0;32m    191\u001b[0m             \u001b[1;32mreturn\u001b[0m \u001b[0mhandle_torch_function\u001b[0m\u001b[1;33m(\u001b[0m\u001b[0mTensor\u001b[0m\u001b[1;33m.\u001b[0m\u001b[0m__repr__\u001b[0m\u001b[1;33m,\u001b[0m \u001b[1;33m(\u001b[0m\u001b[0mself\u001b[0m\u001b[1;33m,\u001b[0m\u001b[1;33m)\u001b[0m\u001b[1;33m,\u001b[0m \u001b[0mself\u001b[0m\u001b[1;33m)\u001b[0m\u001b[1;33m\u001b[0m\u001b[1;33m\u001b[0m\u001b[0m\n\u001b[0;32m    192\u001b[0m         \u001b[1;31m# All strings are unicode in Python 3.\u001b[0m\u001b[1;33m\u001b[0m\u001b[1;33m\u001b[0m\u001b[1;33m\u001b[0m\u001b[0m\n\u001b[1;32m--> 193\u001b[1;33m         \u001b[1;32mreturn\u001b[0m \u001b[0mtorch\u001b[0m\u001b[1;33m.\u001b[0m\u001b[0m_tensor_str\u001b[0m\u001b[1;33m.\u001b[0m\u001b[0m_str\u001b[0m\u001b[1;33m(\u001b[0m\u001b[0mself\u001b[0m\u001b[1;33m)\u001b[0m\u001b[1;33m\u001b[0m\u001b[1;33m\u001b[0m\u001b[0m\n\u001b[0m\u001b[0;32m    194\u001b[0m \u001b[1;33m\u001b[0m\u001b[0m\n\u001b[0;32m    195\u001b[0m     \u001b[1;32mdef\u001b[0m \u001b[0mbackward\u001b[0m\u001b[1;33m(\u001b[0m\u001b[0mself\u001b[0m\u001b[1;33m,\u001b[0m \u001b[0mgradient\u001b[0m\u001b[1;33m=\u001b[0m\u001b[1;32mNone\u001b[0m\u001b[1;33m,\u001b[0m \u001b[0mretain_graph\u001b[0m\u001b[1;33m=\u001b[0m\u001b[1;32mNone\u001b[0m\u001b[1;33m,\u001b[0m \u001b[0mcreate_graph\u001b[0m\u001b[1;33m=\u001b[0m\u001b[1;32mFalse\u001b[0m\u001b[1;33m,\u001b[0m \u001b[0minputs\u001b[0m\u001b[1;33m=\u001b[0m\u001b[1;32mNone\u001b[0m\u001b[1;33m)\u001b[0m\u001b[1;33m:\u001b[0m\u001b[1;33m\u001b[0m\u001b[1;33m\u001b[0m\u001b[0m\n",
      "\u001b[1;32mD:\\ProgramData\\Anaconda3\\envs\\everglades\\lib\\site-packages\\torch\\_tensor_str.py\u001b[0m in \u001b[0;36m_str\u001b[1;34m(self)\u001b[0m\n\u001b[0;32m    381\u001b[0m \u001b[1;32mdef\u001b[0m \u001b[0m_str\u001b[0m\u001b[1;33m(\u001b[0m\u001b[0mself\u001b[0m\u001b[1;33m)\u001b[0m\u001b[1;33m:\u001b[0m\u001b[1;33m\u001b[0m\u001b[1;33m\u001b[0m\u001b[0m\n\u001b[0;32m    382\u001b[0m     \u001b[1;32mwith\u001b[0m \u001b[0mtorch\u001b[0m\u001b[1;33m.\u001b[0m\u001b[0mno_grad\u001b[0m\u001b[1;33m(\u001b[0m\u001b[1;33m)\u001b[0m\u001b[1;33m:\u001b[0m\u001b[1;33m\u001b[0m\u001b[1;33m\u001b[0m\u001b[0m\n\u001b[1;32m--> 383\u001b[1;33m         \u001b[1;32mreturn\u001b[0m \u001b[0m_str_intern\u001b[0m\u001b[1;33m(\u001b[0m\u001b[0mself\u001b[0m\u001b[1;33m)\u001b[0m\u001b[1;33m\u001b[0m\u001b[1;33m\u001b[0m\u001b[0m\n\u001b[0m",
      "\u001b[1;32mD:\\ProgramData\\Anaconda3\\envs\\everglades\\lib\\site-packages\\torch\\_tensor_str.py\u001b[0m in \u001b[0;36m_str_intern\u001b[1;34m(inp)\u001b[0m\n\u001b[0;32m    356\u001b[0m                     \u001b[0mtensor_str\u001b[0m \u001b[1;33m=\u001b[0m \u001b[0m_tensor_str\u001b[0m\u001b[1;33m(\u001b[0m\u001b[0mself\u001b[0m\u001b[1;33m.\u001b[0m\u001b[0mto_dense\u001b[0m\u001b[1;33m(\u001b[0m\u001b[1;33m)\u001b[0m\u001b[1;33m,\u001b[0m \u001b[0mindent\u001b[0m\u001b[1;33m)\u001b[0m\u001b[1;33m\u001b[0m\u001b[1;33m\u001b[0m\u001b[0m\n\u001b[0;32m    357\u001b[0m                 \u001b[1;32melse\u001b[0m\u001b[1;33m:\u001b[0m\u001b[1;33m\u001b[0m\u001b[1;33m\u001b[0m\u001b[0m\n\u001b[1;32m--> 358\u001b[1;33m                     \u001b[0mtensor_str\u001b[0m \u001b[1;33m=\u001b[0m \u001b[0m_tensor_str\u001b[0m\u001b[1;33m(\u001b[0m\u001b[0mself\u001b[0m\u001b[1;33m,\u001b[0m \u001b[0mindent\u001b[0m\u001b[1;33m)\u001b[0m\u001b[1;33m\u001b[0m\u001b[1;33m\u001b[0m\u001b[0m\n\u001b[0m\u001b[0;32m    359\u001b[0m \u001b[1;33m\u001b[0m\u001b[0m\n\u001b[0;32m    360\u001b[0m     \u001b[1;32mif\u001b[0m \u001b[0mself\u001b[0m\u001b[1;33m.\u001b[0m\u001b[0mlayout\u001b[0m \u001b[1;33m!=\u001b[0m \u001b[0mtorch\u001b[0m\u001b[1;33m.\u001b[0m\u001b[0mstrided\u001b[0m\u001b[1;33m:\u001b[0m\u001b[1;33m\u001b[0m\u001b[1;33m\u001b[0m\u001b[0m\n",
      "\u001b[1;32mD:\\ProgramData\\Anaconda3\\envs\\everglades\\lib\\site-packages\\torch\\_tensor_str.py\u001b[0m in \u001b[0;36m_tensor_str\u001b[1;34m(self, indent)\u001b[0m\n\u001b[0;32m    240\u001b[0m         \u001b[1;32mreturn\u001b[0m \u001b[0m_tensor_str_with_formatter\u001b[0m\u001b[1;33m(\u001b[0m\u001b[0mself\u001b[0m\u001b[1;33m,\u001b[0m \u001b[0mindent\u001b[0m\u001b[1;33m,\u001b[0m \u001b[0msummarize\u001b[0m\u001b[1;33m,\u001b[0m \u001b[0mreal_formatter\u001b[0m\u001b[1;33m,\u001b[0m \u001b[0mimag_formatter\u001b[0m\u001b[1;33m)\u001b[0m\u001b[1;33m\u001b[0m\u001b[1;33m\u001b[0m\u001b[0m\n\u001b[0;32m    241\u001b[0m     \u001b[1;32melse\u001b[0m\u001b[1;33m:\u001b[0m\u001b[1;33m\u001b[0m\u001b[1;33m\u001b[0m\u001b[0m\n\u001b[1;32m--> 242\u001b[1;33m         \u001b[0mformatter\u001b[0m \u001b[1;33m=\u001b[0m \u001b[0m_Formatter\u001b[0m\u001b[1;33m(\u001b[0m\u001b[0mget_summarized_data\u001b[0m\u001b[1;33m(\u001b[0m\u001b[0mself\u001b[0m\u001b[1;33m)\u001b[0m \u001b[1;32mif\u001b[0m \u001b[0msummarize\u001b[0m \u001b[1;32melse\u001b[0m \u001b[0mself\u001b[0m\u001b[1;33m)\u001b[0m\u001b[1;33m\u001b[0m\u001b[1;33m\u001b[0m\u001b[0m\n\u001b[0m\u001b[0;32m    243\u001b[0m         \u001b[1;32mreturn\u001b[0m \u001b[0m_tensor_str_with_formatter\u001b[0m\u001b[1;33m(\u001b[0m\u001b[0mself\u001b[0m\u001b[1;33m,\u001b[0m \u001b[0mindent\u001b[0m\u001b[1;33m,\u001b[0m \u001b[0msummarize\u001b[0m\u001b[1;33m,\u001b[0m \u001b[0mformatter\u001b[0m\u001b[1;33m)\u001b[0m\u001b[1;33m\u001b[0m\u001b[1;33m\u001b[0m\u001b[0m\n\u001b[0;32m    244\u001b[0m \u001b[1;33m\u001b[0m\u001b[0m\n",
      "\u001b[1;32mD:\\ProgramData\\Anaconda3\\envs\\everglades\\lib\\site-packages\\torch\\_tensor_str.py\u001b[0m in \u001b[0;36m__init__\u001b[1;34m(self, tensor)\u001b[0m\n\u001b[0;32m     88\u001b[0m \u001b[1;33m\u001b[0m\u001b[0m\n\u001b[0;32m     89\u001b[0m         \u001b[1;32melse\u001b[0m\u001b[1;33m:\u001b[0m\u001b[1;33m\u001b[0m\u001b[1;33m\u001b[0m\u001b[0m\n\u001b[1;32m---> 90\u001b[1;33m             \u001b[0mnonzero_finite_vals\u001b[0m \u001b[1;33m=\u001b[0m \u001b[0mtorch\u001b[0m\u001b[1;33m.\u001b[0m\u001b[0mmasked_select\u001b[0m\u001b[1;33m(\u001b[0m\u001b[0mtensor_view\u001b[0m\u001b[1;33m,\u001b[0m \u001b[0mtorch\u001b[0m\u001b[1;33m.\u001b[0m\u001b[0misfinite\u001b[0m\u001b[1;33m(\u001b[0m\u001b[0mtensor_view\u001b[0m\u001b[1;33m)\u001b[0m \u001b[1;33m&\u001b[0m \u001b[0mtensor_view\u001b[0m\u001b[1;33m.\u001b[0m\u001b[0mne\u001b[0m\u001b[1;33m(\u001b[0m\u001b[1;36m0\u001b[0m\u001b[1;33m)\u001b[0m\u001b[1;33m)\u001b[0m\u001b[1;33m\u001b[0m\u001b[1;33m\u001b[0m\u001b[0m\n\u001b[0m\u001b[0;32m     91\u001b[0m \u001b[1;33m\u001b[0m\u001b[0m\n\u001b[0;32m     92\u001b[0m             \u001b[1;32mif\u001b[0m \u001b[0mnonzero_finite_vals\u001b[0m\u001b[1;33m.\u001b[0m\u001b[0mnumel\u001b[0m\u001b[1;33m(\u001b[0m\u001b[1;33m)\u001b[0m \u001b[1;33m==\u001b[0m \u001b[1;36m0\u001b[0m\u001b[1;33m:\u001b[0m\u001b[1;33m\u001b[0m\u001b[1;33m\u001b[0m\u001b[0m\n",
      "\u001b[1;31mRuntimeError\u001b[0m: CUDA error: device-side assert triggered"
     ]
    }
   ],
   "source": [
    "predict.gather(0, legal_id)"
   ]
  },
  {
   "cell_type": "code",
   "execution_count": 142,
   "metadata": {},
   "outputs": [
    {
     "data": {
      "text/plain": [
       "tensor([[0.5594],\n",
       "        [0.8244],\n",
       "        [0.5368],\n",
       "        [0.4656],\n",
       "        [0.1332],\n",
       "        [0.6059],\n",
       "        [0.6987],\n",
       "        [0.1715],\n",
       "        [0.4309],\n",
       "        [0.9509]])"
      ]
     },
     "execution_count": 142,
     "metadata": {},
     "output_type": "execute_result"
    }
   ],
   "source": [
    "torch.rand(10).unsqueeze(1)"
   ]
  },
  {
   "cell_type": "code",
   "execution_count": 145,
   "metadata": {},
   "outputs": [
    {
     "data": {
      "text/plain": [
       "array([4., 2.])"
      ]
     },
     "execution_count": 145,
     "metadata": {},
     "output_type": "execute_result"
    }
   ],
   "source": [
    "actions[45]"
   ]
  },
  {
   "cell_type": "code",
   "execution_count": 146,
   "metadata": {},
   "outputs": [
    {
     "data": {
      "text/plain": [
       "array([4., 4.])"
      ]
     },
     "execution_count": 146,
     "metadata": {},
     "output_type": "execute_result"
    }
   ],
   "source": [
    "actions[47]"
   ]
  },
  {
   "cell_type": "code",
   "execution_count": 147,
   "metadata": {},
   "outputs": [
    {
     "data": {
      "text/plain": [
       "array([ 5., 11.])"
      ]
     },
     "execution_count": 147,
     "metadata": {},
     "output_type": "execute_result"
    }
   ],
   "source": [
    "actions[65]"
   ]
  },
  {
   "cell_type": "code",
   "execution_count": 148,
   "metadata": {},
   "outputs": [
    {
     "data": {
      "text/plain": [
       "array([6., 5.])"
      ]
     },
     "execution_count": 148,
     "metadata": {},
     "output_type": "execute_result"
    }
   ],
   "source": [
    "actions[70]"
   ]
  },
  {
   "cell_type": "code",
   "execution_count": 150,
   "metadata": {},
   "outputs": [
    {
     "ename": "TypeError",
     "evalue": "'numpy.ndarray' object is not callable",
     "output_type": "error",
     "traceback": [
      "\u001b[1;31m---------------------------------------------------------------------------\u001b[0m",
      "\u001b[1;31mTypeError\u001b[0m                                 Traceback (most recent call last)",
      "\u001b[1;32m<ipython-input-150-c2923fb07927>\u001b[0m in \u001b[0;36m<module>\u001b[1;34m\u001b[0m\n\u001b[1;32m----> 1\u001b[1;33m \u001b[0mlegal_moves\u001b[0m\u001b[1;33m(\u001b[0m\u001b[0mobservation\u001b[0m\u001b[1;33m)\u001b[0m\u001b[1;33m\u001b[0m\u001b[1;33m\u001b[0m\u001b[0m\n\u001b[0m",
      "\u001b[1;31mTypeError\u001b[0m: 'numpy.ndarray' object is not callable"
     ]
    }
   ],
   "source": [
    "legal_moves(observation)"
   ]
  },
  {
   "cell_type": "code",
   "execution_count": 161,
   "metadata": {},
   "outputs": [],
   "source": [
    "actions = [[68, 16, 121, 3, 41, 105, 89], [22, 23, 25, -1, -1, -1, -1], [18, 56, 112, 6, 33, 30, 98], [7, 63, 126, 88, 35, 108, 48], [38, 103, 120, 22, 46, 91, 122], [19, 68, 81, 98, 40, 116, 130], [69, 41, 99, 116, 4, 49, 32], [111, 29, 15, 68, 107, 91, 5], [13, 38, 102, 0, 30, 61, 131], [90, 37, 78, 130, 14, 72, 32]]"
   ]
  },
  {
   "cell_type": "code",
   "execution_count": 162,
   "metadata": {},
   "outputs": [
    {
     "data": {
      "text/plain": [
       "tensor([[0.6413, 0.4148, 0.7435,  ..., 0.0866, 0.2352, 0.9963],\n",
       "        [0.1508, 0.5930, 0.3212,  ..., 0.1832, 0.0636, 0.1680],\n",
       "        [0.8078, 0.7295, 0.4701,  ..., 0.6412, 0.2963, 0.0509],\n",
       "        ...,\n",
       "        [0.9721, 0.3197, 0.7892,  ..., 0.5335, 0.1455, 0.0773],\n",
       "        [0.8056, 0.4343, 0.9186,  ..., 0.5955, 0.6109, 0.3155],\n",
       "        [0.4338, 0.2608, 0.6878,  ..., 0.0492, 0.5824, 0.8812]])"
      ]
     },
     "execution_count": 162,
     "metadata": {},
     "output_type": "execute_result"
    }
   ],
   "source": [
    "preds"
   ]
  },
  {
   "cell_type": "code",
   "execution_count": 163,
   "metadata": {},
   "outputs": [],
   "source": [
    "preds = torch.rand(10,132)"
   ]
  },
  {
   "cell_type": "code",
   "execution_count": null,
   "metadata": {},
   "outputs": [],
   "source": []
  },
  {
   "cell_type": "code",
   "execution_count": 177,
   "metadata": {},
   "outputs": [
    {
     "data": {
      "text/plain": [
       "[tensor([0.8963, 0.1302, 0.1358, 0.7783, 0.0163, 0.8492, 0.6282]),\n",
       " tensor([0.2719, 0.2574, 0.4111, 0.0000, 0.0000, 0.0000, 0.0000]),\n",
       " tensor([0.3639, 0.1463, 0.6224, 0.7311, 0.8257, 0.5302, 0.8953]),\n",
       " tensor([0.7730, 0.5497, 0.8220, 0.0928, 0.4209, 0.7917, 0.1120]),\n",
       " tensor([0.7865, 0.4682, 0.4233, 0.0581, 0.5598, 0.6818, 0.8211]),\n",
       " tensor([0.4206, 0.4238, 0.0345, 0.4168, 0.0360, 0.5273, 0.3891]),\n",
       " tensor([0.4979, 0.2559, 0.3107, 0.0808, 0.3374, 0.6515, 0.6854]),\n",
       " tensor([0.9183, 0.6732, 0.5718, 0.1405, 0.3952, 0.8155, 0.8593]),\n",
       " tensor([0.3791, 0.9320, 0.8433, 0.9964, 0.2736, 0.5116, 0.4739]),\n",
       " tensor([0.9892, 0.3174, 0.7957, 0.8887, 0.2609, 0.0754, 0.9617])]"
      ]
     },
     "execution_count": 177,
     "metadata": {},
     "output_type": "execute_result"
    }
   ],
   "source": [
    "new_current_Q = []\n",
    "for idx, index_group in enumerate(actions):\n",
    "    x = []\n",
    "    for i in index_group:\n",
    "        if i > -1:\n",
    "            x.append(preds[idx][i])\n",
    "        else:\n",
    "            x.append(torch.tensor(0))\n",
    "    new_current_Q.append(torch.stack(x))\n",
    "new_current_Q\n",
    "\n",
    "    "
   ]
  },
  {
   "cell_type": "code",
   "execution_count": 180,
   "metadata": {},
   "outputs": [],
   "source": [
    "obs = torch.rand(10,105)"
   ]
  },
  {
   "cell_type": "code",
   "execution_count": 181,
   "metadata": {},
   "outputs": [],
   "source": [
    "preds = model(obs)"
   ]
  },
  {
   "cell_type": "code",
   "execution_count": 183,
   "metadata": {},
   "outputs": [
    {
     "data": {
      "text/plain": [
       "torch.Size([10, 132])"
      ]
     },
     "execution_count": 183,
     "metadata": {},
     "output_type": "execute_result"
    }
   ],
   "source": [
    "preds.shape"
   ]
  },
  {
   "cell_type": "code",
   "execution_count": 192,
   "metadata": {},
   "outputs": [
    {
     "data": {
      "text/plain": [
       "tensor([[-0.1499, -0.0017, -0.0488,  0.0565,  0.0969, -0.0118,  0.0965],\n",
       "        [-0.0175, -0.0862, -0.1245,  0.0000,  0.0000,  0.0000,  0.0000],\n",
       "        [-0.0292,  0.0371, -0.0444,  0.0344, -0.0383, -0.1055, -0.0031],\n",
       "        [-0.0654,  0.0490, -0.0196, -0.0004,  0.0155,  0.0110,  0.0505],\n",
       "        [-0.0663, -0.0183, -0.0440, -0.0229,  0.0291, -0.1092, -0.0227],\n",
       "        [ 0.0147, -0.1338, -0.0519, -0.0036, -0.0708, -0.0262, -0.0893],\n",
       "        [ 0.0266,  0.0864,  0.0687, -0.0225, -0.0595,  0.0372,  0.0373],\n",
       "        [ 0.0331,  0.0439,  0.0463, -0.1258, -0.0217, -0.0968,  0.0181],\n",
       "        [-0.0286, -0.0662,  0.0425,  0.0499, -0.0778, -0.0522, -0.0493],\n",
       "        [ 0.0258, -0.0171,  0.0629, -0.0868, -0.0998,  0.0228,  0.0634]],\n",
       "       grad_fn=<StackBackward>)"
      ]
     },
     "execution_count": 192,
     "metadata": {},
     "output_type": "execute_result"
    }
   ],
   "source": [
    "new_current_Q = []\n",
    "for idx, index_group in enumerate(actions):\n",
    "    x = []\n",
    "    for i in index_group:\n",
    "        if i > -1:\n",
    "            x.append(preds[idx][i])\n",
    "        else:\n",
    "            x.append(torch.tensor(0))\n",
    "    new_current_Q.append(torch.stack(x))\n",
    "new_current_Q = torch.stack(new_current_Q)\n",
    "new_current_Q"
   ]
  },
  {
   "cell_type": "code",
   "execution_count": 190,
   "metadata": {},
   "outputs": [
    {
     "data": {
      "text/plain": [
       "tensor(0., grad_fn=<SelectBackward>)"
      ]
     },
     "execution_count": 190,
     "metadata": {},
     "output_type": "execute_result"
    }
   ],
   "source": [
    "new_current_Q[1][3]"
   ]
  },
  {
   "cell_type": "code",
   "execution_count": 195,
   "metadata": {},
   "outputs": [
    {
     "data": {
      "text/plain": [
       "tensor([4, 5, 7, 0, 0])"
      ]
     },
     "execution_count": 195,
     "metadata": {},
     "output_type": "execute_result"
    }
   ],
   "source": [
    "a = torch.tensor([4,5,7])\n",
    "b = torch.tensor([0])\n",
    "for i in range(2):\n",
    "    a = torch.cat((a,b))\n",
    "a"
   ]
  },
  {
   "cell_type": "code",
   "execution_count": 196,
   "metadata": {},
   "outputs": [],
   "source": [
    "list1 = np.array([])"
   ]
  },
  {
   "cell_type": "code",
   "execution_count": 198,
   "metadata": {},
   "outputs": [
    {
     "data": {
      "text/plain": [
       "(0,)"
      ]
     },
     "execution_count": 198,
     "metadata": {},
     "output_type": "execute_result"
    }
   ],
   "source": [
    "list1.shape"
   ]
  },
  {
   "cell_type": "code",
   "execution_count": 199,
   "metadata": {},
   "outputs": [
    {
     "data": {
      "text/plain": [
       "array([], shape=(0, 2), dtype=float64)"
      ]
     },
     "execution_count": 199,
     "metadata": {},
     "output_type": "execute_result"
    }
   ],
   "source": [
    "list1.reshape(0,2)"
   ]
  },
  {
   "cell_type": "code",
   "execution_count": null,
   "metadata": {},
   "outputs": [],
   "source": []
  }
 ],
 "metadata": {
  "kernelspec": {
   "display_name": "Python 3",
   "language": "python",
   "name": "python3"
  },
  "language_info": {
   "codemirror_mode": {
    "name": "ipython",
    "version": 3
   },
   "file_extension": ".py",
   "mimetype": "text/x-python",
   "name": "python",
   "nbconvert_exporter": "python",
   "pygments_lexer": "ipython3",
   "version": "3.8.8"
  }
 },
 "nbformat": 4,
 "nbformat_minor": 4
}
